{
 "cells": [
  {
   "cell_type": "markdown",
   "metadata": {},
   "source": [
    "## Assignment 7: Apply SVM to Amazon reviews data set [M]"
   ]
  },
  {
   "cell_type": "markdown",
   "metadata": {},
   "source": [
    "Given Dataset consists of reviews of fine foods from amazon. Reviews describe (1)product and user information, (2)ratings, and (3) a plain text review.Here, SVM  algorithm is applied on amazon reviews datasets to predict whether a review is positive or negative.\n",
    "\n",
    "Procedure to execute the above task is as follows:\n",
    "\n",
    "* **Step1: Data Pre-processing is applied on given amazon reviews data-set.And Take sample of data from dataset because of computational limitations**\n",
    "\n",
    "\n",
    "* **Step2: Time based splitting on train and test datasets.**\n",
    "\n",
    "\n",
    "* **Step3: Apply  Feature generation techniques(Bow,tfidf,avg w2v,tfidfw2v)** \n",
    "  \n",
    "  \n",
    "* **Step4: Apply SVM  algorithm using each technique.**\n",
    "\n",
    "\n",
    "* **Step5: To find C(1/alpha) and gamma(=1/sigma) using gridsearch cross-validation and random cross-validation**\n",
    "\n",
    "\n",
    "\n",
    "         \n",
    "\n",
    "## Objective:\n",
    "\n",
    "* To classify given reviews (positive (Rating of 4 or 5) & negative (rating of 1 or 2)) using SVM algorithm.\n",
    "\n",
    "\n",
    "\n",
    "\n",
    "\n"
   ]
  },
  {
   "cell_type": "code",
   "execution_count": 1,
   "metadata": {
    "scrolled": true
   },
   "outputs": [],
   "source": [
    "# All necessary module\n",
    "%matplotlib inline\n",
    "import warnings\n",
    "warnings.filterwarnings(\"ignore\")\n",
    "#import  sys\n",
    "import re\n",
    "import math\n",
    "import sqlite3\n",
    "import pandas as pd\n",
    "import numpy as np\n",
    "import pickle\n",
    "# modules for text processing\n",
    "import nltk\n",
    "import string\n",
    "from nltk.corpus import stopwords\n",
    "from nltk.stem import PorterStemmer\n",
    "from nltk.stem.wordnet import WordNetLemmatizer\n",
    "import matplotlib.pyplot as plt\n",
    "import seaborn as sns\n",
    "from sklearn.feature_extraction.text import TfidfTransformer\n",
    "from sklearn.feature_extraction.text import TfidfVectorizer\n",
    "from sklearn.model_selection import train_test_split\n",
    "from sklearn.model_selection import TimeSeriesSplit\n",
    "from sklearn.model_selection import cross_val_score\n",
    "from sklearn.model_selection import GridSearchCV\n",
    "from sklearn.decomposition import TruncatedSVD\n",
    "\n",
    "import pytablewriter\n",
    "from sklearn.feature_extraction.text import CountVectorizer\n",
    "from sklearn.metrics import confusion_matrix\n",
    "from sklearn import metrics\n",
    "from sklearn.metrics import f1_score\n",
    "from sklearn.metrics import recall_score\n",
    "from sklearn.metrics import precision_score\n",
    "\n",
    "#import scikitplot.metrics as skplt\n",
    "from sklearn.metrics import classification_report,confusion_matrix,accuracy_score\n",
    "\n",
    "from sklearn.metrics import roc_curve, auc\n",
    "from nltk.stem.porter import PorterStemmer\n",
    "\n",
    "\n",
    "\n",
    "# train-split data,accuracy-score,cross-validation modules\n",
    "\n",
    "from sklearn.neighbors import KNeighborsClassifier\n",
    "\n",
    "\n",
    "\n",
    "from sklearn.preprocessing import StandardScaler\n",
    "from sklearn import preprocessing\n",
    "\n",
    "from sklearn.svm import SVC\n",
    "from sklearn import linear_model\n",
    "from scipy.stats import uniform\n",
    "from sklearn.model_selection import RandomizedSearchCV\n",
    "from tqdm import tqdm\n",
    "import os\n"
   ]
  },
  {
   "cell_type": "code",
   "execution_count": 2,
   "metadata": {},
   "outputs": [],
   "source": [
    "import zipfile\n",
    "archive = zipfile.ZipFile('/floyd/input/pri/Reviews.zip', 'r')\n",
    "csvfile = archive.open('Reviews.csv')"
   ]
  },
  {
   "cell_type": "code",
   "execution_count": 3,
   "metadata": {},
   "outputs": [
    {
     "name": "stdout",
     "output_type": "stream",
     "text": [
      "   Id   ProductId          UserId                      ProfileName  \\\n",
      "0   1  B001E4KFG0  A3SGXH7AUHU8GW                       delmartian   \n",
      "1   2  B00813GRG4  A1D87F6ZCVE5NK                           dll pa   \n",
      "2   3  B000LQOCH0   ABXLMWJIXXAIN  Natalia Corres \"Natalia Corres\"   \n",
      "3   4  B000UA0QIQ  A395BORC6FGVXV                             Karl   \n",
      "4   5  B006K2ZZ7K  A1UQRSCLF8GW1T    Michael D. Bigham \"M. Wassir\"   \n",
      "\n",
      "   HelpfulnessNumerator  HelpfulnessDenominator  Score        Time  \\\n",
      "0                     1                       1      5  1303862400   \n",
      "1                     0                       0      1  1346976000   \n",
      "2                     1                       1      4  1219017600   \n",
      "3                     3                       3      2  1307923200   \n",
      "4                     0                       0      5  1350777600   \n",
      "\n",
      "                 Summary                                               Text  \n",
      "0  Good Quality Dog Food  I have bought several of the Vitality canned d...  \n",
      "1      Not as Advertised  Product arrived labeled as Jumbo Salted Peanut...  \n",
      "2  \"Delight\" says it all  This is a confection that has been around a fe...  \n",
      "3         Cough Medicine  If you are looking for the secret ingredient i...  \n",
      "4            Great taffy  Great taffy at a great price.  There was a wid...  \n"
     ]
    }
   ],
   "source": [
    "# Reading CSV file and printing first five rows \n",
    "amz = pd.read_csv(csvfile ) # reviews.csv is  dataset file\n",
    "print(amz.head())"
   ]
  },
  {
   "cell_type": "code",
   "execution_count": 4,
   "metadata": {},
   "outputs": [
    {
     "name": "stdout",
     "output_type": "stream",
     "text": [
      "(568454, 10)\n",
      "Index(['Id', 'ProductId', 'UserId', 'ProfileName', 'HelpfulnessNumerator',\n",
      "       'HelpfulnessDenominator', 'Score', 'Time', 'Summary', 'Text'],\n",
      "      dtype='object')\n"
     ]
    }
   ],
   "source": [
    "# dimensions of dataset and columns name\n",
    "print(amz.shape) \n",
    "#print(amz1.shape)\n",
    "print(amz.columns)"
   ]
  },
  {
   "cell_type": "markdown",
   "metadata": {},
   "source": [
    "The amazon reviews datafile contains 568454 rows of entry and 10 columns.For given objective, processing of data is necessary.\"Score\" and \"text\" columns is processed for required result."
   ]
  },
  {
   "cell_type": "markdown",
   "metadata": {},
   "source": [
    "##### Given reviews with Score>3 a positive rating, and reviews with a score<3 a negative rating. If score is equal to 3,it is considered as neutral score."
   ]
  },
  {
   "cell_type": "code",
   "execution_count": 5,
   "metadata": {},
   "outputs": [],
   "source": [
    "# Processing\n",
    "#Give reviews with Score>3 a positive rating, and reviews with a score<3 a negative rating.\n",
    "\n",
    "def score_part(x):\n",
    "    if x < 3:\n",
    "        return 'negative'\n",
    "    return 'positive'\n",
    "\n",
    "actualScore = amz['Score']\n",
    "#print(actualScore)\n",
    "New_score = actualScore.map(score_part)\n",
    "#print(New_score)\n",
    "amz['Score']=New_score\n",
    "\n",
    "# If score is equal to 3,it is considered as neutral score.\n"
   ]
  },
  {
   "cell_type": "code",
   "execution_count": 6,
   "metadata": {},
   "outputs": [
    {
     "name": "stdout",
     "output_type": "stream",
     "text": [
      "(568454, 10)\n"
     ]
    },
    {
     "data": {
      "text/html": [
       "<div>\n",
       "<style scoped>\n",
       "    .dataframe tbody tr th:only-of-type {\n",
       "        vertical-align: middle;\n",
       "    }\n",
       "\n",
       "    .dataframe tbody tr th {\n",
       "        vertical-align: top;\n",
       "    }\n",
       "\n",
       "    .dataframe thead th {\n",
       "        text-align: right;\n",
       "    }\n",
       "</style>\n",
       "<table border=\"1\" class=\"dataframe\">\n",
       "  <thead>\n",
       "    <tr style=\"text-align: right;\">\n",
       "      <th></th>\n",
       "      <th>Id</th>\n",
       "      <th>ProductId</th>\n",
       "      <th>UserId</th>\n",
       "      <th>ProfileName</th>\n",
       "      <th>HelpfulnessNumerator</th>\n",
       "      <th>HelpfulnessDenominator</th>\n",
       "      <th>Score</th>\n",
       "      <th>Time</th>\n",
       "      <th>Summary</th>\n",
       "      <th>Text</th>\n",
       "    </tr>\n",
       "  </thead>\n",
       "  <tbody>\n",
       "    <tr>\n",
       "      <th>0</th>\n",
       "      <td>1</td>\n",
       "      <td>B001E4KFG0</td>\n",
       "      <td>A3SGXH7AUHU8GW</td>\n",
       "      <td>delmartian</td>\n",
       "      <td>1</td>\n",
       "      <td>1</td>\n",
       "      <td>positive</td>\n",
       "      <td>1303862400</td>\n",
       "      <td>Good Quality Dog Food</td>\n",
       "      <td>I have bought several of the Vitality canned d...</td>\n",
       "    </tr>\n",
       "    <tr>\n",
       "      <th>1</th>\n",
       "      <td>2</td>\n",
       "      <td>B00813GRG4</td>\n",
       "      <td>A1D87F6ZCVE5NK</td>\n",
       "      <td>dll pa</td>\n",
       "      <td>0</td>\n",
       "      <td>0</td>\n",
       "      <td>negative</td>\n",
       "      <td>1346976000</td>\n",
       "      <td>Not as Advertised</td>\n",
       "      <td>Product arrived labeled as Jumbo Salted Peanut...</td>\n",
       "    </tr>\n",
       "    <tr>\n",
       "      <th>2</th>\n",
       "      <td>3</td>\n",
       "      <td>B000LQOCH0</td>\n",
       "      <td>ABXLMWJIXXAIN</td>\n",
       "      <td>Natalia Corres \"Natalia Corres\"</td>\n",
       "      <td>1</td>\n",
       "      <td>1</td>\n",
       "      <td>positive</td>\n",
       "      <td>1219017600</td>\n",
       "      <td>\"Delight\" says it all</td>\n",
       "      <td>This is a confection that has been around a fe...</td>\n",
       "    </tr>\n",
       "    <tr>\n",
       "      <th>3</th>\n",
       "      <td>4</td>\n",
       "      <td>B000UA0QIQ</td>\n",
       "      <td>A395BORC6FGVXV</td>\n",
       "      <td>Karl</td>\n",
       "      <td>3</td>\n",
       "      <td>3</td>\n",
       "      <td>negative</td>\n",
       "      <td>1307923200</td>\n",
       "      <td>Cough Medicine</td>\n",
       "      <td>If you are looking for the secret ingredient i...</td>\n",
       "    </tr>\n",
       "    <tr>\n",
       "      <th>4</th>\n",
       "      <td>5</td>\n",
       "      <td>B006K2ZZ7K</td>\n",
       "      <td>A1UQRSCLF8GW1T</td>\n",
       "      <td>Michael D. Bigham \"M. Wassir\"</td>\n",
       "      <td>0</td>\n",
       "      <td>0</td>\n",
       "      <td>positive</td>\n",
       "      <td>1350777600</td>\n",
       "      <td>Great taffy</td>\n",
       "      <td>Great taffy at a great price.  There was a wid...</td>\n",
       "    </tr>\n",
       "  </tbody>\n",
       "</table>\n",
       "</div>"
      ],
      "text/plain": [
       "   Id   ProductId          UserId                      ProfileName  \\\n",
       "0   1  B001E4KFG0  A3SGXH7AUHU8GW                       delmartian   \n",
       "1   2  B00813GRG4  A1D87F6ZCVE5NK                           dll pa   \n",
       "2   3  B000LQOCH0   ABXLMWJIXXAIN  Natalia Corres \"Natalia Corres\"   \n",
       "3   4  B000UA0QIQ  A395BORC6FGVXV                             Karl   \n",
       "4   5  B006K2ZZ7K  A1UQRSCLF8GW1T    Michael D. Bigham \"M. Wassir\"   \n",
       "\n",
       "   HelpfulnessNumerator  HelpfulnessDenominator     Score        Time  \\\n",
       "0                     1                       1  positive  1303862400   \n",
       "1                     0                       0  negative  1346976000   \n",
       "2                     1                       1  positive  1219017600   \n",
       "3                     3                       3  negative  1307923200   \n",
       "4                     0                       0  positive  1350777600   \n",
       "\n",
       "                 Summary                                               Text  \n",
       "0  Good Quality Dog Food  I have bought several of the Vitality canned d...  \n",
       "1      Not as Advertised  Product arrived labeled as Jumbo Salted Peanut...  \n",
       "2  \"Delight\" says it all  This is a confection that has been around a fe...  \n",
       "3         Cough Medicine  If you are looking for the secret ingredient i...  \n",
       "4            Great taffy  Great taffy at a great price.  There was a wid...  "
      ]
     },
     "execution_count": 6,
     "metadata": {},
     "output_type": "execute_result"
    }
   ],
   "source": [
    "print(amz.shape)\n",
    "amz.head(5)\n"
   ]
  },
  {
   "cell_type": "markdown",
   "metadata": {},
   "source": [
    "#### Data Pre-processing on raw data:\n",
    "\n",
    "Every datasets contains some unwanted data.Raw data is preprocessed by removing duplication.\n"
   ]
  },
  {
   "cell_type": "code",
   "execution_count": 7,
   "metadata": {},
   "outputs": [
    {
     "name": "stdout",
     "output_type": "stream",
     "text": [
      "            Id   ProductId          UserId  \\\n",
      "171222  171223  7310172001   AJD41FBJD9010   \n",
      "171153  171154  7310172001   AJD41FBJD9010   \n",
      "171151  171152  7310172001   AJD41FBJD9010   \n",
      "217443  217444  7310172101  A22FICU3LCG2J1   \n",
      "217444  217445  7310172101  A1LQV0PSM04DWI   \n",
      "\n",
      "                                         ProfileName  HelpfulnessNumerator  \\\n",
      "171222  N. Ferguson \"Two, Daisy, Hannah, and Kitten\"                     1   \n",
      "171153  N. Ferguson \"Two, Daisy, Hannah, and Kitten\"                     0   \n",
      "171151  N. Ferguson \"Two, Daisy, Hannah, and Kitten\"                     0   \n",
      "217443                                      C. Knapp                     1   \n",
      "217444                                 B. Feuerstein                     1   \n",
      "\n",
      "        HelpfulnessDenominator     Score        Time  \\\n",
      "171222                       1  positive  1233360000   \n",
      "171153                       0  positive  1233360000   \n",
      "171151                       0  positive  1233360000   \n",
      "217443                       1  positive  1275523200   \n",
      "217444                       1  positive  1274313600   \n",
      "\n",
      "                                                  Summary  \\\n",
      "171222  best dog treat-- great for training---  all do...   \n",
      "171153  best dog treat-- great for training---  all do...   \n",
      "171151  dogs LOVE it--  best treat for rewards and tra...   \n",
      "217443                                Can't resist this !   \n",
      "217444                   Freeze dried liver as dog treats   \n",
      "\n",
      "                                                     Text  \n",
      "171222  Freeze dried liver has a hypnotic effect on do...  \n",
      "171153  Freeze dried liver has a hypnotic effect on do...  \n",
      "171151  Freeze dried liver has a hypnotic effect on do...  \n",
      "217443  My dog can't resist these treats - I can get h...  \n",
      "217444  My little pupster loves these things. She is n...  \n",
      "(393931, 10)\n"
     ]
    },
    {
     "data": {
      "text/plain": [
       "positive    336824\n",
       "negative     57107\n",
       "Name: Score, dtype: int64"
      ]
     },
     "execution_count": 7,
     "metadata": {},
     "output_type": "execute_result"
    }
   ],
   "source": [
    "#Processing of ProductId\n",
    "#Sorting data according to ProductId in ascending order\n",
    "sorted_data=amz.sort_values('ProductId', axis=0, ascending=True, inplace=False, kind='quicksort', na_position='last')\n",
    "#sorted_data.head() # printing sorted data\n",
    "# To check the duplications in raw data\n",
    "dupli=sorted_data[sorted_data.duplicated([\"UserId\",\"ProfileName\",\"Time\",\"Text\"])]\n",
    "print(dupli.head(5))\n",
    "# Remove Deduplication of entries\n",
    "final=sorted_data.drop_duplicates(subset={\"UserId\",\"ProfileName\",\"Time\",\"Text\"}, keep='first', inplace=False)\n",
    "final.shape\n",
    "#Checking to see how much % of data still remains\n",
    "(final['Id'].size*1.0)/(amz['Id'].size*1.0)*100\n",
    "final=final[final.HelpfulnessNumerator<=final.HelpfulnessDenominator]\n",
    "#Before starting the next phase of preprocessing lets see the number of entries left\n",
    "print(final.shape)\n",
    "\n",
    "#How many positive and negative reviews are present in our dataset?\n",
    "final['Score'].value_counts()"
   ]
  },
  {
   "cell_type": "code",
   "execution_count": 8,
   "metadata": {},
   "outputs": [
    {
     "name": "stdout",
     "output_type": "stream",
     "text": [
      "List of total counts Postive score and Negative score ==> [336824, 57107]\n"
     ]
    },
    {
     "data": {
      "text/plain": [
       "Text(0.5,1,'Total counts of Postive score and Negative score ')"
      ]
     },
     "execution_count": 8,
     "metadata": {},
     "output_type": "execute_result"
    },
    {
     "data": {
      "image/png": "[encoded data removed]",
      "text/plain": [
       "<Figure size 432x288 with 1 Axes>"
      ]
     },
     "metadata": {},
     "output_type": "display_data"
    }
   ],
   "source": [
    "a=final['Score'].value_counts().tolist()\n",
    "print('List of total counts Postive score and Negative score ==>',a)\n",
    "final['Score'].value_counts().plot(kind='bar')\n",
    "plt.title('Total counts of Postive score and Negative score ')\n"
   ]
  },
  {
   "cell_type": "markdown",
   "metadata": {},
   "source": [
    "#### observations\n",
    "* The positive reviews is greater than negative reviews.It makes data imbalanced.\n",
    "* From the bar plot ,it is seen that sampled datasets of review is imbalnced.\n"
   ]
  },
  {
   "cell_type": "markdown",
   "metadata": {},
   "source": [
    "# Text Preprocessing:"
   ]
  },
  {
   "cell_type": "code",
   "execution_count": 9,
   "metadata": {},
   "outputs": [
    {
     "name": "stdout",
     "output_type": "stream",
     "text": [
      "[nltk_data] Downloading package stopwords to /root/nltk_data...\n",
      "[nltk_data]   Package stopwords is already up-to-date!\n"
     ]
    },
    {
     "data": {
      "text/plain": [
       "True"
      ]
     },
     "execution_count": 9,
     "metadata": {},
     "output_type": "execute_result"
    }
   ],
   "source": [
    "import nltk\n",
    "nltk.download('stopwords')"
   ]
  },
  {
   "cell_type": "code",
   "execution_count": 10,
   "metadata": {
    "scrolled": true
   },
   "outputs": [],
   "source": [
    " \n",
    "stop = set(stopwords.words('english')) #set of stopwords\n",
    "sno = nltk.stem.SnowballStemmer('english') #initialising the snowball stemmer\n",
    "\n",
    "def cleanhtml(sentence): #function to clean the word of any html-tags\n",
    "    cleanr = re.compile('<.*?>$< /><')\n",
    "    #cleanr = re.compile('<.*?>')\n",
    "    cleantext = re.sub(cleanr, ' ', sentence)\n",
    "    return cleantext\n",
    "def cleanpunc(sentence): #function to clean the word of any punctuation or special characters\n",
    "    cleaned = re.sub(r'[?|!|\\'|\"|#]',r'',sentence)\n",
    "    cleaned = re.sub(r'[.|,|)|(|\\|/]',r' ',cleaned)\n",
    "    return  cleaned\n"
   ]
  },
  {
   "cell_type": "markdown",
   "metadata": {},
   "source": [
    "cleaning html tags like\" <.*?>\" and punctuations like \" r'[?|!|\\'|\"|#]',r''\" from senetences"
   ]
  },
  {
   "cell_type": "code",
   "execution_count": 11,
   "metadata": {},
   "outputs": [],
   "source": [
    "#final = final.sample(frac=0.004,random_state=1)\n",
    "#print(final.shape)"
   ]
  },
  {
   "cell_type": "code",
   "execution_count": 12,
   "metadata": {},
   "outputs": [],
   "source": [
    "#Code for implementing step-by-step the checks mentioned in the pre-processing phase.\n",
    "\n",
    "'''Pre processing of text data:It is cleaning and flitering text'''\n",
    "i=0\n",
    "str1=' '\n",
    "global final_string\n",
    "final_string=[]\n",
    "all_positive_words=[] \n",
    "all_negative_words=[] \n",
    "s=''\n",
    "for sent in final['Text'].values:\n",
    "    filtered_sentence=[]\n",
    "    #print(sent);\n",
    "    sent=cleanhtml(sent) # remove HTMl tags\n",
    "    for w in sent.split():\n",
    "        for cleaned_words in cleanpunc(w).split():\n",
    "            if((cleaned_words.isalpha()) & (len(cleaned_words)>2)):    \n",
    "                if(cleaned_words.lower() not in stop):\n",
    "                    s=(sno.stem(cleaned_words.lower())).encode('utf8')\n",
    "                    filtered_sentence.append(s)\n",
    "                    if (final['Score'].values)[i] == 'positive': \n",
    "                        all_positive_words.append(s) #list of all words used to describe positive reviews\n",
    "                    if(final['Score'].values)[i] == 'negative':\n",
    "                        all_negative_words.append(s) #list of all words used to describe negative reviews reviews\n",
    "                else:\n",
    "                    continue\n",
    "            else:\n",
    "                continue \n",
    "    #print(filtered_sentence)\n",
    "    str1 = b\" \".join(filtered_sentence) #final string of cleaned words\n",
    "    #print(\"***********************************************************************\")\n",
    "\n",
    "    final_string.append(str1)\n",
    "    i+=1\n",
    "#print('all_positive_words =',len(all_positive_words))\n",
    "#print('all_negative_words =',len(all_negative_words))\n",
    "\n",
    "# Finding most frequently occuring Positive and Negative words \n",
    "\n",
    "freq_positive=nltk.FreqDist(all_positive_words)\n",
    "\n",
    "freq_negative=nltk.FreqDist(all_negative_words)\n",
    "\n",
    "#print(\"\\nMost Common Positive Words : \",freq_positive.most_common(20))\n",
    "\n",
    "#print(\"\\nMost Common Negative Words : \",freq_negative.most_common(20))\n",
    "\n",
    "\n"
   ]
  },
  {
   "cell_type": "markdown",
   "metadata": {},
   "source": [
    "##### Dumping and loading  Pre processing of text data in pickle file "
   ]
  },
  {
   "cell_type": "code",
   "execution_count": 13,
   "metadata": {},
   "outputs": [],
   "source": [
    "pickle_path_final_string='final_string.pkl'\n",
    "final_string_file=open(pickle_path_final_string,'wb')\n",
    "pickle.dump(final_string,final_string_file)\n",
    "final_string_file.close()"
   ]
  },
  {
   "cell_type": "code",
   "execution_count": 11,
   "metadata": {},
   "outputs": [],
   "source": [
    "pickle_path_final_string='final_string.pkl'\n",
    "final_string_unpkl=open(pickle_path_final_string,'rb')\n",
    "final_string=pickle.load(final_string_unpkl)"
   ]
  },
  {
   "cell_type": "code",
   "execution_count": 12,
   "metadata": {},
   "outputs": [
    {
     "name": "stdout",
     "output_type": "stream",
     "text": [
      "\n",
      "Pre_Process_Text_Data  X_Text= (393931,)\n",
      "\n",
      "Pre_Process_Score_Data Y_Score= (393931,)\n"
     ]
    }
   ],
   "source": [
    "\n",
    "final['CleanedText']=final_string\n",
    "#adding a column of CleanedText which displays the data after pre-processing of the review \n",
    "Pre_Process_Data = final[['CleanedText','Score','Time']] \n",
    "\n",
    "X_Text=Pre_Process_Data ['CleanedText']\n",
    "\n",
    "Y_Score =Pre_Process_Data ['Score'] # positive or negative score\n",
    "print('\\nPre_Process_Text_Data  X_Text=',X_Text.shape)\n",
    "print('\\nPre_Process_Score_Data Y_Score=',Y_Score.shape)\n"
   ]
  },
  {
   "cell_type": "code",
   "execution_count": 13,
   "metadata": {},
   "outputs": [
    {
     "name": "stdout",
     "output_type": "stream",
     "text": [
      "positive    101047\n",
      "Name: Score, dtype: int64\n",
      "negative    57107\n",
      "Name: Score, dtype: int64\n"
     ]
    }
   ],
   "source": [
    "# postive and negtive reviews from original datasets of amazon\n",
    "pos_final = Pre_Process_Data[Pre_Process_Data .Score == 'positive']# postive reviews\n",
    "pos_final = pos_final.sample(frac=0.3)\n",
    "print(pos_final.Score.value_counts())\n",
    "\n",
    "neg_final = Pre_Process_Data [Pre_Process_Data .Score == 'negative'] # negative reviews\n",
    "print(neg_final.Score.value_counts())"
   ]
  },
  {
   "cell_type": "code",
   "execution_count": 14,
   "metadata": {},
   "outputs": [
    {
     "name": "stdout",
     "output_type": "stream",
     "text": [
      "158154\n",
      "<class 'pandas.core.frame.DataFrame'>\n"
     ]
    }
   ],
   "source": [
    "final_pos_neg = pd.concat([pos_final,neg_final],axis=0)\n",
    "print(len(final_pos_neg))\n",
    "print(type(final_pos_neg))\n"
   ]
  },
  {
   "cell_type": "code",
   "execution_count": 15,
   "metadata": {},
   "outputs": [
    {
     "name": "stdout",
     "output_type": "stream",
     "text": [
      "Index(['CleanedText', 'Score', 'Time'], dtype='object')\n"
     ]
    }
   ],
   "source": [
    "print(final_pos_neg.columns)"
   ]
  },
  {
   "cell_type": "markdown",
   "metadata": {},
   "source": [
    "### Splitting Training and Testing dataset based on Time"
   ]
  },
  {
   "cell_type": "code",
   "execution_count": 16,
   "metadata": {},
   "outputs": [
    {
     "name": "stdout",
     "output_type": "stream",
     "text": [
      "(40000, 1)\n",
      "(40000, 1)\n",
      "X_train_data  (28000, 1)\n",
      "X_test_data  (12000, 1)\n",
      "Y_train_data  (28000,)\n",
      "Y_test_data  (12000,)\n"
     ]
    }
   ],
   "source": [
    "# splitting training and testing dataset (Time based splitting)\n",
    "\n",
    "X1 = final_pos_neg[['CleanedText','Time']].sort_values('Time',axis=0).drop('Time',axis=1)\n",
    "#40k data sample\n",
    "X=X1[:40000]\n",
    "\n",
    "print(X.shape)\n",
    "Y1 = final_pos_neg[['Score','Time']].sort_values('Time',axis=0).drop('Time',axis=1)\n",
    "#40k data sample\n",
    "Y=Y1[:40000]\n",
    "print(Y.shape)\n",
    "## 70 % of data\n",
    "\n",
    "X_train_data ,X_test_data,Y_train_data,Y_test_data  = train_test_split(X,\n",
    "                                                      Y.values.ravel(),                                                                       \n",
    "                                                    test_size=0.3,\n",
    "                                                    shuffle=False)\n",
    "\n",
    "\n",
    "\n",
    "print('X_train_data ',X_train_data.shape)\n",
    "\n",
    "print('X_test_data ',X_test_data.shape )\n",
    "\n",
    "print('Y_train_data ',Y_train_data .shape)\n",
    "\n",
    "print('Y_test_data ',Y_test_data .shape)\n",
    "\n"
   ]
  },
  {
   "cell_type": "code",
   "execution_count": 17,
   "metadata": {},
   "outputs": [
    {
     "name": "stdout",
     "output_type": "stream",
     "text": [
      "y_train_new  (28000,)\n",
      "y_test_new  (12000,)\n"
     ]
    }
   ],
   "source": [
    "\n",
    "Y_new = Y['Score'].map(lambda x: 1 if x == 'positive' else 0).values.ravel()\n",
    "# Y train and Test for sparse datasets\n",
    "\n",
    "y_train_new,y_test_new = train_test_split(Y_new,test_size=0.3,shuffle=False)\n",
    "print('y_train_new ',y_train_new.shape)\n",
    "\n",
    "print('y_test_new ',y_test_new .shape)\n"
   ]
  },
  {
   "cell_type": "markdown",
   "metadata": {},
   "source": [
    "#  Optimal Lambda for SVM"
   ]
  },
  {
   "cell_type": "code",
   "execution_count": 18,
   "metadata": {},
   "outputs": [
    {
     "data": {
      "text/html": [
       "<div>\n",
       "<style scoped>\n",
       "    .dataframe tbody tr th:only-of-type {\n",
       "        vertical-align: middle;\n",
       "    }\n",
       "\n",
       "    .dataframe tbody tr th {\n",
       "        vertical-align: top;\n",
       "    }\n",
       "\n",
       "    .dataframe thead th {\n",
       "        text-align: right;\n",
       "    }\n",
       "</style>\n",
       "<table border=\"1\" class=\"dataframe\">\n",
       "  <thead>\n",
       "    <tr style=\"text-align: right;\">\n",
       "      <th></th>\n",
       "      <th>Model</th>\n",
       "      <th>Vectorizer</th>\n",
       "      <th>SearchCV</th>\n",
       "      <th>Scoring Metrics</th>\n",
       "      <th>Train_model_score</th>\n",
       "      <th>Test_model_score</th>\n",
       "      <th>Best lambda</th>\n",
       "    </tr>\n",
       "  </thead>\n",
       "  <tbody>\n",
       "  </tbody>\n",
       "</table>\n",
       "</div>"
      ],
      "text/plain": [
       "Empty DataFrame\n",
       "Columns: [Model, Vectorizer, SearchCV, Scoring Metrics, Train_model_score, Test_model_score, Best lambda]\n",
       "Index: []"
      ]
     },
     "execution_count": 18,
     "metadata": {},
     "output_type": "execute_result"
    }
   ],
   "source": [
    "models_performence = {\n",
    "    'Model':[],\n",
    "    'Vectorizer': [],\n",
    "    'SearchCV':[],\n",
    "    'Scoring Metrics': [],\n",
    "    'Train_model_score': [],\n",
    "    'Test_model_score': [],   \n",
    "    'Best lambda':[],\n",
    "}\n",
    "\n",
    "columns = [\"Model\",\"Vectorizer\",\"SearchCV\", \"Scoring Metrics\",\"Train_model_score\",\"Test_model_score\",\"Best lambda\"]\n",
    "pd.DataFrame(models_performence, columns=columns)\n",
    "     \n",
    "   "
   ]
  },
  {
   "cell_type": "code",
   "execution_count": 19,
   "metadata": {},
   "outputs": [],
   "source": [
    " # Time seris splitting Cross-Validation\n",
    "tscv = TimeSeriesSplit(n_splits=3)"
   ]
  },
  {
   "cell_type": "code",
   "execution_count": 20,
   "metadata": {},
   "outputs": [],
   "source": [
    "#  optimal_svm is function to calculate the hyperparametr c for SGD_clf\n",
    "\n",
    "def optimal_svm(X_train,y_train,X_test, y_test,vectorization):    \n",
    "    C = [1000,500,100,50,10,5,1,0.5,0.1,0.05,0.01,0.005,0.001,0.0005,0.0001]\n",
    "    \n",
    "    \n",
    "    #  hyperparameter options\n",
    "    hp1 =dict(alpha= C)\n",
    "     \n",
    "    # Scoring options\n",
    "    d=[ 'f1','roc_auc']    \n",
    "    for i in tqdm(range(len(d))):\n",
    "        models_performence['Model'].append('SGDClassifier')\n",
    "        models_performence['Vectorizer'].append(vectorization)\n",
    "        models_performence['SearchCV'].append('GridSearchCV')\n",
    "        p = d[i]\n",
    "        SGD_clf = linear_model.SGDClassifier(loss='hinge',\n",
    "                                             n_iter=100,\n",
    "                                             learning_rate='optimal',\n",
    "                                             class_weight='balanced',\n",
    "                                             n_jobs= -1)\n",
    "        models_performence['Scoring Metrics'].append(p)\n",
    "        model1 = GridSearchCV(SGD_clf,\n",
    "                              hp1,\n",
    "                              scoring = p,\n",
    "                              cv=tscv,n_jobs= -1)\n",
    "        best_model1=model1.fit(X_train, y_train)        \n",
    "        Test_model_score=best_model1.score(X_test, y_test)\n",
    "        Train_model_score=best_model1.score(X_train, y_train)\n",
    "      \n",
    "        models_performence['Train_model_score'].append(Train_model_score.mean())\n",
    "        models_performence['Test_model_score'].append(Test_model_score.mean())        \n",
    "      \n",
    "        optimal_l1=best_model1.best_estimator_.get_params()['alpha']        \n",
    "        models_performence['Best lambda'].append(optimal_l1)\n",
    "        \n",
    "       "
   ]
  },
  {
   "cell_type": "code",
   "execution_count": 21,
   "metadata": {},
   "outputs": [],
   "source": [
    "#  error_plot is function to calculate performance of datasets with different value of \n",
    "#  the hyperparametr c .\n",
    "\n",
    "def error_plot(classifier,p,X_train,y_train,X_test, y_test):    \n",
    "    C = [1000,500,100,50,10,5,1,0.5,0.1,0.05,0.01,0.005,0.001,0.0005,0.0001]   \n",
    "    train_error=[]\n",
    "    test_error=[]\n",
    "    \n",
    "    for i in tqdm(range(len(C))):\n",
    "        hp1 =dict(alpha=[C[i]])\n",
    "      \n",
    "        model1 = GridSearchCV(classifier, hp1,\n",
    "                              scoring =p ,\n",
    "                              cv=tscv,n_jobs= -1)\n",
    "        best_model1=model1.fit(X_train, y_train)        \n",
    "        Test_score=model1.score(X_test, y_test)\n",
    "        test_error.append(1-Test_score)\n",
    "        \n",
    "        Train_score=model1.score(X_train, y_train)\n",
    "        train_error.append(1-Train_score)\n",
    "        \n",
    "\n",
    "\n",
    "    fig = plt.figure( facecolor='y', edgecolor='k')\n",
    "    plt.semilogx(C,train_error,'m*',linestyle='dashed', label='Train')\n",
    "    plt.semilogx(C,test_error,'r*', linestyle='dashed',label='Test')\n",
    "    plt.legend(loc='lower left')\n",
    "    plt.grid()\n",
    "\n",
    "    plt.xlabel('Regularization parameter(C)')\n",
    "    plt.ylabel('Performance')\n",
    "    plt.show()\n",
    "\n"
   ]
  },
  {
   "cell_type": "markdown",
   "metadata": {},
   "source": [
    "##### Pandas dataframe to markdown Table format"
   ]
  },
  {
   "cell_type": "code",
   "execution_count": 22,
   "metadata": {},
   "outputs": [],
   "source": [
    "# result_display  is function to convert dataframe into table format in Markdown\n",
    "def result_display(df):\n",
    "    writer = pytablewriter.MarkdownTableWriter()\n",
    "    writer.header_list = list(df.columns.values)\n",
    "    writer.value_matrix = df.values.tolist()\n",
    "    writer.write_table()"
   ]
  },
  {
   "cell_type": "markdown",
   "metadata": {},
   "source": [
    "# Methods to convert text into vector"
   ]
  },
  {
   "cell_type": "markdown",
   "metadata": {},
   "source": [
    "Methods:\n",
    "* Bag of Words\n",
    "* Avg word2vec\n",
    "* Tf-idf\n",
    "* tf-idf weighted Word2Vec\n",
    "\n",
    "Using above four method is used to convert text to numeric vector."
   ]
  },
  {
   "cell_type": "markdown",
   "metadata": {},
   "source": [
    "# 1. Bag of Words (BoW)"
   ]
  },
  {
   "cell_type": "markdown",
   "metadata": {},
   "source": [
    "##### BOW for Training Data"
   ]
  },
  {
   "cell_type": "code",
   "execution_count": 23,
   "metadata": {},
   "outputs": [
    {
     "name": "stdout",
     "output_type": "stream",
     "text": [
      "(28000, 20759)\n"
     ]
    }
   ],
   "source": [
    "count_vect = CountVectorizer() #in scikit-learn\n",
    "vect_Data = count_vect.fit_transform(X_train_data.values.ravel())\n",
    "print(vect_Data .shape)"
   ]
  },
  {
   "cell_type": "code",
   "execution_count": 24,
   "metadata": {},
   "outputs": [
    {
     "name": "stdout",
     "output_type": "stream",
     "text": [
      "TruncatedSVD : (28000, 100)\n"
     ]
    }
   ],
   "source": [
    "# truncated SVD for dimesionality reduction for 100 dimensions\n",
    "svd = TruncatedSVD(n_components=100,n_iter=7)\n",
    "\n",
    "Data=svd.fit_transform(vect_Data )\n",
    "print(\"TruncatedSVD :\",Data.shape)\n",
    "    "
   ]
  },
  {
   "cell_type": "code",
   "execution_count": 25,
   "metadata": {},
   "outputs": [
    {
     "name": "stdout",
     "output_type": "stream",
     "text": [
      "(28000, 100)\n"
     ]
    }
   ],
   "source": [
    "# StandardScaler\n",
    "final_data= StandardScaler(with_mean=False).fit_transform(Data )\n",
    "\n",
    "print(final_data.shape)\n",
    "#Normalize Data\n",
    "\n",
    "\n",
    "warnings.filterwarnings(\"ignore\") "
   ]
  },
  {
   "cell_type": "markdown",
   "metadata": {},
   "source": [
    "#### Dumping & Loading Pickle file for training data ( BOW )\n"
   ]
  },
  {
   "cell_type": "code",
   "execution_count": 26,
   "metadata": {},
   "outputs": [],
   "source": [
    "#Pickle file for training data\n",
    "\n",
    "pickle_path_BOW_train='X_train_data_BOW.pkl'\n",
    "X_train_data_BOW=open(pickle_path_BOW_train,'wb')\n",
    "pickle.dump(final_data ,X_train_data_BOW)\n",
    "X_train_data_BOW.close()\n"
   ]
  },
  {
   "cell_type": "code",
   "execution_count": 27,
   "metadata": {},
   "outputs": [],
   "source": [
    "pickle_path_BOW_train='X_train_data_BOW.pkl'\n",
    "unpickle_path1=open(pickle_path_BOW_train,'rb')\n",
    "final_data=pickle.load(unpickle_path1)"
   ]
  },
  {
   "cell_type": "code",
   "execution_count": 28,
   "metadata": {},
   "outputs": [
    {
     "data": {
      "text/plain": [
       "['final_data.joblib']"
      ]
     },
     "execution_count": 28,
     "metadata": {},
     "output_type": "execute_result"
    }
   ],
   "source": [
    "from sklearn.externals import joblib\n",
    "joblib.dump(final_data, 'final_data.joblib') "
   ]
  },
  {
   "cell_type": "code",
   "execution_count": 29,
   "metadata": {},
   "outputs": [],
   "source": [
    "final_data = joblib.load('final_data.joblib') "
   ]
  },
  {
   "cell_type": "markdown",
   "metadata": {},
   "source": [
    "##### BOW for Testing Data"
   ]
  },
  {
   "cell_type": "code",
   "execution_count": 30,
   "metadata": {},
   "outputs": [
    {
     "name": "stdout",
     "output_type": "stream",
     "text": [
      "(12000, 20759)\n",
      "TruncatedSVD : (12000, 100)\n"
     ]
    }
   ],
   "source": [
    "#vector of test data\n",
    "vect_Data1= count_vect.transform(X_test_data.values.ravel())\n",
    "print(vect_Data1.shape)\n",
    "\n",
    "\n",
    "\n",
    "final_data_test=svd.transform(vect_Data1)\n",
    "print(\"TruncatedSVD :\",final_data_test.shape)"
   ]
  },
  {
   "cell_type": "markdown",
   "metadata": {},
   "source": [
    "#### Dumping & Loading Pickle file for testing data ( BOW) "
   ]
  },
  {
   "cell_type": "code",
   "execution_count": 31,
   "metadata": {},
   "outputs": [],
   "source": [
    "pickle_path_BOW_test='X_test_data_BOW.pkl'\n",
    "X_test_data_BOW=open(pickle_path_BOW_test,'wb')\n",
    "pickle.dump(final_data_test ,X_test_data_BOW)\n",
    "X_test_data_BOW.close()"
   ]
  },
  {
   "cell_type": "code",
   "execution_count": 32,
   "metadata": {},
   "outputs": [],
   "source": [
    "pickle_path_BOW_test='X_test_data_BOW.pkl'\n",
    "unpickle_path2=open(pickle_path_BOW_test,'rb')\n",
    "final_data_test=pickle.load(unpickle_path2)"
   ]
  },
  {
   "cell_type": "markdown",
   "metadata": {},
   "source": [
    " Featured data of Bag of words is Standardization (mean=0 and std.dev=1)."
   ]
  },
  {
   "cell_type": "code",
   "execution_count": 33,
   "metadata": {},
   "outputs": [],
   "source": [
    "Train_data=y_train_new"
   ]
  },
  {
   "cell_type": "code",
   "execution_count": 34,
   "metadata": {},
   "outputs": [
    {
     "name": "stderr",
     "output_type": "stream",
     "text": [
      "100%|██████████| 2/2 [00:44<00:00, 22.01s/it]\n"
     ]
    }
   ],
   "source": [
    "# To get optimal lambda using BOW\n",
    "\n",
    "\n",
    "#print(Y_test_data)\n",
    "\n",
    "#print(Train_data)\n",
    "vectorization='BOW'\n",
    "optimal_lambda = optimal_svm(final_data ,Train_data,\n",
    "                             final_data_test,y_test_new,\n",
    "                             vectorization)"
   ]
  },
  {
   "cell_type": "code",
   "execution_count": 35,
   "metadata": {
    "scrolled": true
   },
   "outputs": [
    {
     "name": "stdout",
     "output_type": "stream",
     "text": [
      "|    Model    |Vectorizer|  SearchCV  |Scoring Metrics|Train_model_score|Test_model_score|Best lambda|\n",
      "|-------------|----------|------------|---------------|----------------:|---------------:|----------:|\n",
      "|SGDClassifier|BOW       |GridSearchCV|f1             |         0.000201|           0.000|       5.00|\n",
      "|SGDClassifier|BOW       |GridSearchCV|roc_auc        |         0.837396|           0.820|       0.05|\n",
      "\n"
     ]
    }
   ],
   "source": [
    "columns = [\"Model\",\"Vectorizer\",\"SearchCV\",\n",
    "           \"Scoring Metrics\",\"Train_model_score\",\"Test_model_score\",\"Best lambda\"]\n",
    "df=pd.DataFrame(models_performence, columns=columns)\n",
    "result_display(df)    \n",
    "   "
   ]
  },
  {
   "cell_type": "markdown",
   "metadata": {},
   "source": [
    "### Observation:"
   ]
  },
  {
   "cell_type": "markdown",
   "metadata": {},
   "source": [
    "|    Model    |Vectorizer|  SearchCV  |Scoring Metrics|Train_model_score|Test_model_score|Best lambda|\n",
    "|-------------|----------|------------|---------------|----------------:|---------------:|----------:|\n",
    "|SGDClassifier|BOW       |GridSearchCV|f1             |         0.000201|           0.000|       5.00|\n",
    "|SGDClassifier|BOW       |GridSearchCV|roc_auc        |         0.837396|           0.820|       0.05|      0.05|\n"
   ]
  },
  {
   "cell_type": "code",
   "execution_count": 36,
   "metadata": {},
   "outputs": [
    {
     "name": "stdout",
     "output_type": "stream",
     "text": [
      "5.0\n"
     ]
    }
   ],
   "source": [
    "#### Observations:\n",
    "df=pd.DataFrame(models_performence, columns=columns)\n",
    "zx=df[df['Scoring Metrics'] == 'f1']['Best lambda'].ravel()\n",
    "lambdax=zx[0]\n",
    "print(lambdax)\n",
    "#Mscoring=\n"
   ]
  },
  {
   "cell_type": "code",
   "execution_count": 37,
   "metadata": {},
   "outputs": [],
   "source": [
    "#Best lambda \n",
    "hp1=dict(alpha=[lambdax])\n",
    "SGD_clf = linear_model.SGDClassifier(loss='hinge',\n",
    "                                     n_iter=100,\n",
    "                                     learning_rate='optimal',\n",
    "                                     class_weight='balanced',\n",
    "                                     n_jobs= -1)\n",
    "          \n",
    "svm =GridSearchCV(SGD_clf,\n",
    "                  hp1, \n",
    "                  scoring ='f1',\n",
    "                  cv=tscv,\n",
    "                  n_jobs= -1)\n",
    "svm.fit(final_data ,Train_data)\n",
    "\n",
    "prediction1 =svm.predict(final_data_test)\n"
   ]
  },
  {
   "cell_type": "code",
   "execution_count": 38,
   "metadata": {},
   "outputs": [
    {
     "name": "stdout",
     "output_type": "stream",
     "text": [
      "training accuracy= 0.8330283719267251\n",
      "training error is = 0.16697162807327492\n"
     ]
    }
   ],
   "source": [
    "#Training accuracy and training error\n",
    "training_score=svm.score(final_data,Train_data)\n",
    "print('training accuracy=',training_score)\n",
    "training_error=1-training_score\n",
    "print('training error is =',training_error)"
   ]
  },
  {
   "cell_type": "code",
   "execution_count": 39,
   "metadata": {},
   "outputs": [
    {
     "name": "stdout",
     "output_type": "stream",
     "text": [
      "Accuracy for SGD_clf model with Bag of words is =  0.67675\n",
      "Testing error for SGD_clf model with Bag of words is =  0.32325000000000004\n"
     ]
    }
   ],
   "source": [
    "# Testing Accuracy and testing error for LogisticRegression model\n",
    "\n",
    "Testing_score=round(accuracy_score(y_test_new ,prediction1),5)\n",
    "print(\"Accuracy for SGD_clf model with Bag of words is = \",Testing_score)\n",
    "Testing_error=1-Testing_score\n",
    "print(\"Testing error for SGD_clf model with Bag of words is = \",Testing_error)"
   ]
  },
  {
   "cell_type": "code",
   "execution_count": 40,
   "metadata": {},
   "outputs": [],
   "source": [
    "F1_score = round(f1_score(y_test_new ,prediction1,average='macro'),5)*100\n",
    "recall = round(recall_score(y_test_new,prediction1,average='macro'),5)*100\n",
    "precision = round(precision_score(y_test_new ,prediction1,average='macro'),5)*100"
   ]
  },
  {
   "cell_type": "code",
   "execution_count": 41,
   "metadata": {},
   "outputs": [
    {
     "name": "stdout",
     "output_type": "stream",
     "text": [
      "             precision    recall  f1-score   support\n",
      "\n",
      "          0       0.80      0.01      0.02      3906\n",
      "          1       0.68      1.00      0.81      8094\n",
      "\n",
      "avg / total       0.72      0.68      0.55     12000\n",
      "\n"
     ]
    }
   ],
   "source": [
    "print(classification_report(y_test_new,prediction1))"
   ]
  },
  {
   "cell_type": "code",
   "execution_count": 42,
   "metadata": {},
   "outputs": [
    {
     "data": {
      "image/png": "[encoded data removed]",
      "text/plain": [
       "<Figure size 432x288 with 2 Axes>"
      ]
     },
     "metadata": {},
     "output_type": "display_data"
    }
   ],
   "source": [
    "cm = confusion_matrix(y_test_new ,prediction1)\n",
    "label = ['negative', 'positive']\n",
    "df_conf = pd.DataFrame(cm, index = label, columns = label)\n",
    "sns.heatmap(df_conf, annot = True, fmt = \"d\")\n",
    "plt.title(\"Confusiion Matrix\")\n",
    "plt.xlabel(\"Predicted Label\")\n",
    "plt.ylabel(\"True Label\")\n",
    "plt.show()"
   ]
  },
  {
   "cell_type": "code",
   "execution_count": 43,
   "metadata": {},
   "outputs": [
    {
     "name": "stderr",
     "output_type": "stream",
     "text": [
      "100%|██████████| 15/15 [00:38<00:00,  2.59s/it]\n"
     ]
    },
    {
     "data": {
      "image/png": "[encoded data removed]",
      "text/plain": [
       "<Figure size 432x288 with 1 Axes>"
      ]
     },
     "metadata": {},
     "output_type": "display_data"
    }
   ],
   "source": [
    "classifier=SGD_clf\n",
    "p='f1'\n",
    "error_plot(classifier,p,final_data ,Train_data\n",
    "           ,final_data_test,y_test_new)"
   ]
  },
  {
   "cell_type": "code",
   "execution_count": 44,
   "metadata": {},
   "outputs": [],
   "source": [
    "\n",
    "models_performence1 = {\n",
    "    'Model':['SGD_clf'],   \n",
    "    'Vectorizer': [vectorization],\n",
    "    \n",
    "    'Optimal lambda': [lambdax],\n",
    "    'Training error':[training_error],\n",
    "    'Test error':[Testing_error],\n",
    "    'Accuracy':[Testing_score],\n",
    "    'F1':[F1_score],\n",
    "    'recall':[recall],\n",
    "    'precision':[precision]\n",
    "    \n",
    "  \n",
    "}"
   ]
  },
  {
   "cell_type": "code",
   "execution_count": 45,
   "metadata": {
    "scrolled": false
   },
   "outputs": [
    {
     "name": "stdout",
     "output_type": "stream",
     "text": [
      "| Model |Vectorizer|Optimal lambda|Training error|Test error|Accuracy| F1  |recall|precision|\n",
      "|-------|----------|-------------:|-------------:|---------:|-------:|----:|-----:|--------:|\n",
      "|SGD_clf|BOW       |             5|        0.1670|    0.3233|  0.6767|41.24| 50.40|    73.81|\n",
      "\n"
     ]
    }
   ],
   "source": [
    "columns = [\"Model\",\"Vectorizer\",\"Optimal lambda\", \n",
    "           \"Training error\",  \"Test error\",\n",
    "            \"Accuracy\",\"F1\",\"recall\",\"precision\",\n",
    "          ]\n",
    "df1=pd.DataFrame(models_performence1, columns=columns)\n",
    "result_display(df1)"
   ]
  },
  {
   "cell_type": "markdown",
   "metadata": {},
   "source": [
    "### Observation"
   ]
  },
  {
   "cell_type": "markdown",
   "metadata": {},
   "source": [
    "| Model |Vectorizer|Optimal lambda|Training error|Test error|Accuracy| F1  |recall|precision|\n",
    "|-------|----------|-------------:|-------------:|---------:|-------:|----:|-----:|--------:|\n",
    "|SGD_clf|BOW       |             5|        0.1670|    0.3233|  0.6767|41.24| 50.40|    73.81|\n"
   ]
  },
  {
   "cell_type": "markdown",
   "metadata": {},
   "source": [
    "* Optimal lambda using SGD_clf for BOW is 5 using 'f1' scoring metrics\n",
    "* from Performance graph of traing and testing data with different lambda value is almost overlapping each other.\n",
    "* TPR & FPR is too high as seen in confusion matrix."
   ]
  },
  {
   "cell_type": "code",
   "execution_count": 46,
   "metadata": {},
   "outputs": [
    {
     "name": "stdout",
     "output_type": "stream",
     "text": [
      "0.05\n"
     ]
    }
   ],
   "source": [
    "\n",
    "zx=df[df['Scoring Metrics'] == 'roc_auc']['Best lambda'].ravel()\n",
    "lambdax=zx[0]\n",
    "print(lambdax)"
   ]
  },
  {
   "cell_type": "code",
   "execution_count": 47,
   "metadata": {},
   "outputs": [],
   "source": [
    "#Best lambda \n",
    "hp1=dict(alpha=[lambdax])\n",
    "SGD_clf = linear_model.SGDClassifier(loss='hinge',n_iter=1000,\n",
    "                                     learning_rate='optimal',\n",
    "                                     class_weight='balanced',\n",
    "                                     n_jobs= -1)\n",
    "          \n",
    "svm1 =GridSearchCV(SGD_clf, hp1,\n",
    "                   scoring ='roc_auc',\n",
    "                   cv=tscv,n_jobs= -1)\n",
    "svm1.fit(final_data ,Train_data)\n",
    "\n",
    "prediction2 =svm1.predict(final_data_test)"
   ]
  },
  {
   "cell_type": "code",
   "execution_count": 48,
   "metadata": {},
   "outputs": [
    {
     "name": "stdout",
     "output_type": "stream",
     "text": [
      "training accuracy= 0.8374079776093861\n",
      "training error is = 0.16259202239061388\n"
     ]
    }
   ],
   "source": [
    "#Training accuracy and training error\n",
    "training_score=svm1.score(final_data,Train_data)\n",
    "print('training accuracy=',training_score)\n",
    "training_error=1-training_score\n",
    "print('training error is =',training_error)"
   ]
  },
  {
   "cell_type": "code",
   "execution_count": 49,
   "metadata": {},
   "outputs": [
    {
     "name": "stdout",
     "output_type": "stream",
     "text": [
      "Accuracy for SGD_clf model with Bag of words is =  0.7565\n",
      "Testing error for SGD_clf model with Bag of words is =  0.24350000000000005\n"
     ]
    }
   ],
   "source": [
    "# Testing Accuracy and testing error \n",
    "Testing_score=round(accuracy_score(y_test_new ,prediction2),5)\n",
    "print(\"Accuracy for SGD_clf model with Bag of words is = \",Testing_score)\n",
    "Testing_error=1-Testing_score\n",
    "print(\"Testing error for SGD_clf model with Bag of words is = \",Testing_error)"
   ]
  },
  {
   "cell_type": "code",
   "execution_count": 50,
   "metadata": {},
   "outputs": [],
   "source": [
    "F1_score = round(f1_score(y_test_new ,prediction2,average='macro'),5)*100\n",
    "recall = round(recall_score(y_test_new,prediction2,average='macro'),5)*100\n",
    "precision = round(precision_score(y_test_new,prediction2,average='macro'),5)*100"
   ]
  },
  {
   "cell_type": "code",
   "execution_count": 51,
   "metadata": {},
   "outputs": [
    {
     "name": "stdout",
     "output_type": "stream",
     "text": [
      "             precision    recall  f1-score   support\n",
      "\n",
      "          0       0.60      0.74      0.66      3906\n",
      "          1       0.86      0.77      0.81      8094\n",
      "\n",
      "avg / total       0.78      0.76      0.76     12000\n",
      "\n"
     ]
    }
   ],
   "source": [
    "print(classification_report( y_test_new,prediction2))"
   ]
  },
  {
   "cell_type": "code",
   "execution_count": 52,
   "metadata": {},
   "outputs": [
    {
     "data": {
      "image/png": "[encoded data removed]",
      "text/plain": [
       "<Figure size 432x288 with 2 Axes>"
      ]
     },
     "metadata": {},
     "output_type": "display_data"
    }
   ],
   "source": [
    "cm = confusion_matrix(y_test_new,prediction2)\n",
    "label = ['negative', 'positive']\n",
    "df_conf = pd.DataFrame(cm, index = label, columns = label)\n",
    "sns.heatmap(df_conf, annot = True, fmt = \"d\")\n",
    "plt.title(\"Confusiion Matrix\")\n",
    "plt.xlabel(\"Predicted Label\")\n",
    "plt.ylabel(\"True Label\")\n",
    "plt.show()"
   ]
  },
  {
   "cell_type": "code",
   "execution_count": 53,
   "metadata": {},
   "outputs": [
    {
     "name": "stderr",
     "output_type": "stream",
     "text": [
      "100%|██████████| 15/15 [05:24<00:00, 21.61s/it]\n"
     ]
    },
    {
     "data": {
      "image/png": "[encoded data removed]",
      "text/plain": [
       "<Figure size 432x288 with 1 Axes>"
      ]
     },
     "metadata": {},
     "output_type": "display_data"
    }
   ],
   "source": [
    "classifier=SGD_clf\n",
    "p='roc_auc'\n",
    "error_plot(classifier,p,final_data ,Train_data,\n",
    "           final_data_test,y_test_new)"
   ]
  },
  {
   "cell_type": "code",
   "execution_count": 54,
   "metadata": {},
   "outputs": [],
   "source": [
    "models_performence1['Model'].append('SGDClassifier')\n",
    "models_performence1['Vectorizer'].append(vectorization)\n",
    "\n",
    "models_performence1[ 'Optimal lambda'].append(lambdax)\n",
    "models_performence1['Training error'].append(training_error)\n",
    "models_performence1[ 'Test error'].append(Testing_error)\n",
    "models_performence1[ 'Accuracy'].append(Testing_score)\n",
    "models_performence1[ 'F1'].append(F1_score)\n",
    "models_performence1['recall'].append(recall)\n",
    "models_performence1[ 'precision'].append(precision)"
   ]
  },
  {
   "cell_type": "code",
   "execution_count": 55,
   "metadata": {},
   "outputs": [
    {
     "name": "stdout",
     "output_type": "stream",
     "text": [
      "|    Model    |Vectorizer|Optimal lambda|Training error|Test error|Accuracy| F1  |recall|precision|\n",
      "|-------------|----------|-------------:|-------------:|---------:|-------:|----:|-----:|--------:|\n",
      "|SGD_clf      |BOW       |          5.00|        0.1670|    0.3233|  0.6767|41.24| 50.40|    73.81|\n",
      "|SGDClassifier|BOW       |          0.05|        0.1626|    0.2435|  0.7565|73.65| 75.18|    73.06|\n",
      "\n"
     ]
    }
   ],
   "source": [
    "columns = [\"Model\",\"Vectorizer\",\"Optimal lambda\",\n",
    "           \"Training error\",  \"Test error\",\n",
    "            \"Accuracy\",\"F1\",\"recall\",\"precision\",\n",
    "          ]\n",
    "df2=pd.DataFrame(models_performence1, columns=columns)\n",
    "result_display(df2)"
   ]
  },
  {
   "cell_type": "markdown",
   "metadata": {},
   "source": [
    "### Observation "
   ]
  },
  {
   "cell_type": "markdown",
   "metadata": {},
   "source": [
    "|    Model    |Vectorizer|Optimal lambda|Training error|Test error|Accuracy| F1  |recall|precision|\n",
    "|-------------|----------|-------------:|-------------:|---------:|-------:|----:|-----:|--------:|\n",
    "|SGD_clf      |BOW       |          5.00|        0.1670|    0.3233|  0.6767|41.24| 50.40|    73.81|\n",
    "|SGDClassifier|BOW       |          0.05|        0.1626|    0.2435|  0.7565|73.65| 75.18|    73.06|\n"
   ]
  },
  {
   "cell_type": "markdown",
   "metadata": {},
   "source": [
    "* Optimal lambda using sgd_clf for BOW with scoring metrics \"roc_auc\" is 0.05. which is giving best result as compared  sgd_clf for BOW with scoring metrics \"f1\".\n",
    "* 'f1' score is 73.65%\n",
    "* from Performance graph of traing and testing data with different lambda value is seen in graph. The training and testing performance differs at initial period and then it remains same.\n",
    "\n",
    "* TPR & TNR is high as compared FPR & FNR. It means model performs very well ans model is sensible.\n",
    "\n",
    "* From above observation  it can be concluded that\n",
    "  ##### SGD_clf for BOW using scoring metrics \"roc_auc\" works best as comapred to scoring metrics \"f1\"."
   ]
  },
  {
   "cell_type": "markdown",
   "metadata": {},
   "source": [
    "# 2. Avg word2vec\n",
    "Firstly, word2vec model is designed for amazon reviews using gensim module."
   ]
  },
  {
   "cell_type": "code",
   "execution_count": 56,
   "metadata": {},
   "outputs": [
    {
     "name": "stderr",
     "output_type": "stream",
     "text": [
      "100%|██████████| 28000/28000 [00:00<00:00, 31150.03it/s]"
     ]
    },
    {
     "name": "stdout",
     "output_type": "stream",
     "text": [
      "28000\n"
     ]
    },
    {
     "name": "stderr",
     "output_type": "stream",
     "text": [
      "\n"
     ]
    }
   ],
   "source": [
    "import gensim\n",
    "list_sent=[]\n",
    "for text in tqdm(X_train_data.values.ravel()): \n",
    "    filter_text=[]\n",
    "    for i in text.split():\n",
    "        if(i.isalpha()):\n",
    "            filter_text.append(i.lower().decode(\"utf-8\"))\n",
    "        else:\n",
    "            continue \n",
    "    list_sent.append(filter_text)\n",
    "print(len(list_sent))\n",
    "\n",
    "\n",
    "    "
   ]
  },
  {
   "cell_type": "markdown",
   "metadata": {},
   "source": [
    "##### word2vec Model using Training Datasets"
   ]
  },
  {
   "cell_type": "code",
   "execution_count": 57,
   "metadata": {},
   "outputs": [],
   "source": [
    "\n",
    "w2v_model=gensim.models.Word2Vec(list_sent,min_count=5,size=100, workers=4) \n",
    "#this model is used in avg word2vec  .  \n"
   ]
  },
  {
   "cell_type": "code",
   "execution_count": 58,
   "metadata": {},
   "outputs": [
    {
     "name": "stdout",
     "output_type": "stream",
     "text": [
      "7245\n"
     ]
    }
   ],
   "source": [
    "words = list(w2v_model.wv.vocab)\n",
    "print(len(words))"
   ]
  },
  {
   "cell_type": "code",
   "execution_count": 59,
   "metadata": {},
   "outputs": [],
   "source": [
    "pickle_path_w2v_model='w2v_model.pkl'\n",
    "w2v_model_path=open(pickle_path_w2v_model,'wb')\n",
    "pickle.dump(w2v_model,w2v_model_path)\n",
    "w2v_model_path.close()"
   ]
  },
  {
   "cell_type": "code",
   "execution_count": 60,
   "metadata": {},
   "outputs": [],
   "source": [
    "pickle_path_w2v_model='w2v_model.pkl'\n",
    "unpickle_w2v_model=open(pickle_path_w2v_model,'rb')\n",
    "w2v_model=pickle.load(unpickle_w2v_model)"
   ]
  },
  {
   "cell_type": "markdown",
   "metadata": {},
   "source": [
    "#### Avg Word2Vec "
   ]
  },
  {
   "cell_type": "code",
   "execution_count": 61,
   "metadata": {},
   "outputs": [
    {
     "name": "stderr",
     "output_type": "stream",
     "text": [
      "100%|██████████| 28000/28000 [00:05<00:00, 5537.60it/s]"
     ]
    },
    {
     "name": "stdout",
     "output_type": "stream",
     "text": [
      "28000\n"
     ]
    },
    {
     "name": "stderr",
     "output_type": "stream",
     "text": [
      "\n"
     ]
    }
   ],
   "source": [
    "#  For Training\n",
    "\n",
    "sent_vectors = []\n",
    "for sent in  tqdm(list_sent): # for each review/sentence\n",
    "    sent_vec = np.zeros(100) \n",
    "    cnt_words =0 # num of words with a valid vector in the sentence/review\n",
    "    for word in sent: \n",
    "        try:\n",
    "            vec = w2v_model.wv[word]\n",
    "            sent_vec += vec\n",
    "            cnt_words += 1\n",
    "        except:\n",
    "            pass\n",
    "    sent_vec /= cnt_words\n",
    "    sent_vectors.append(sent_vec)\n",
    "\n",
    "\n",
    "print(len(sent_vectors))\n",
    "\n",
    "#print(sent_vectors[0:4])\n",
    "\n",
    "\n"
   ]
  },
  {
   "cell_type": "code",
   "execution_count": 62,
   "metadata": {},
   "outputs": [],
   "source": [
    "# Converting Nan value to zero in sent vectors.\n",
    "Sent_Nan = np.where(np.isnan(sent_vectors), 0, sent_vectors)"
   ]
  },
  {
   "cell_type": "code",
   "execution_count": 63,
   "metadata": {},
   "outputs": [
    {
     "name": "stdout",
     "output_type": "stream",
     "text": [
      "<class 'numpy.ndarray'>\n"
     ]
    }
   ],
   "source": [
    "# converting sent list to nd array\n",
    "Sent_final_vector = np.asarray(Sent_Nan )\n",
    "print(type(Sent_final_vector))"
   ]
  },
  {
   "cell_type": "code",
   "execution_count": 64,
   "metadata": {},
   "outputs": [
    {
     "name": "stderr",
     "output_type": "stream",
     "text": [
      "100%|██████████| 12000/12000 [00:00<00:00, 34037.08it/s]\n",
      "100%|██████████| 12000/12000 [00:02<00:00, 5277.81it/s]"
     ]
    },
    {
     "name": "stdout",
     "output_type": "stream",
     "text": [
      "12000\n",
      "<class 'numpy.ndarray'>\n"
     ]
    },
    {
     "name": "stderr",
     "output_type": "stream",
     "text": [
      "\n"
     ]
    }
   ],
   "source": [
    "#  ForTesting\n",
    "# Words in test reviews\n",
    "list_sent_test=[]\n",
    "for text in tqdm(X_test_data.values.ravel()): \n",
    "    filter_text=[]\n",
    "    for i in text.split():\n",
    "        if(i.isalpha()):\n",
    "            filter_text.append(i.lower().decode(\"utf-8\"))\n",
    "        else:\n",
    "            continue \n",
    "    list_sent_test.append(filter_text)\n",
    "#print(len(list_sent_test))\n",
    "\n",
    "sent_vectors1 = []\n",
    "for sent in tqdm(list_sent_test): # for each review/sentence\n",
    "    sent_vec = np.zeros(100) \n",
    "    cnt_words =0 # num of words with a valid vector in the sentence/review\n",
    "    for word in sent: \n",
    "        try:\n",
    "            vec = w2v_model.wv[word]\n",
    "            sent_vec += vec\n",
    "            cnt_words += 1\n",
    "        except:\n",
    "            pass\n",
    "    sent_vec /= cnt_words\n",
    "    sent_vectors1.append(sent_vec)\n",
    "\n",
    "\n",
    "print(len(sent_vectors1))\n",
    "\n",
    "#print(sent_vectors1)\n",
    "# Converting Nan value to zero in sent vectors.\n",
    "Sent_Nan1 = np.where(np.isnan(sent_vectors1), 0, sent_vectors1)\n",
    "\n",
    "# converting sent list to nd array\n",
    "Sent_final_vector1 = np.asarray(Sent_Nan1)\n",
    "print(type(Sent_final_vector1))"
   ]
  },
  {
   "cell_type": "markdown",
   "metadata": {},
   "source": [
    "#### Dumping & Loading Pickle file for  Avg word2vec"
   ]
  },
  {
   "cell_type": "code",
   "execution_count": 65,
   "metadata": {},
   "outputs": [],
   "source": [
    "pickle_path_AW2V_train='X_data_AW2V_train.pkl'\n",
    "X_data_AW2V_train=open(pickle_path_AW2V_train,'wb')\n",
    "pickle.dump(Sent_final_vector,X_data_AW2V_train)\n",
    "X_data_AW2V_train.close()\n",
    "\n",
    "pickle_path_AW2V_test='X_data_AW2V_test.pkl'\n",
    "X_data_AW2V_test=open(pickle_path_AW2V_test,'wb')\n",
    "pickle.dump(Sent_final_vector1,X_data_AW2V_test)\n",
    "X_data_AW2V_test.close()\n"
   ]
  },
  {
   "cell_type": "code",
   "execution_count": 66,
   "metadata": {},
   "outputs": [],
   "source": [
    "pickle_path_AW2V_train='X_data_AW2V_train.pkl'\n",
    "unpickle_path3_train=open(pickle_path_AW2V_train,'rb')\n",
    "Sent_final_vector=pickle.load(unpickle_path3_train)\n",
    "\n",
    "pickle_path_AW2V_test='X_data_AW2V_test.pkl'\n",
    "unpickle_path3_test=open(pickle_path_AW2V_test,'rb')\n",
    "Sent_final_vecto1=pickle.load(unpickle_path3_test)"
   ]
  },
  {
   "cell_type": "markdown",
   "metadata": {},
   "source": [
    "##### Standardscaler  training avg word2vec"
   ]
  },
  {
   "cell_type": "code",
   "execution_count": 67,
   "metadata": {},
   "outputs": [
    {
     "name": "stdout",
     "output_type": "stream",
     "text": [
      "(28000, 100)\n"
     ]
    }
   ],
   "source": [
    "final_w2v_count_Train= StandardScaler(with_mean=False).fit_transform(Sent_final_vector)\n",
    "# For Train\n",
    "print(final_w2v_count_Train.shape)"
   ]
  },
  {
   "cell_type": "code",
   "execution_count": 68,
   "metadata": {},
   "outputs": [],
   "source": [
    "final_w2v_count_Test=Sent_final_vector1"
   ]
  },
  {
   "cell_type": "code",
   "execution_count": 69,
   "metadata": {},
   "outputs": [
    {
     "name": "stdout",
     "output_type": "stream",
     "text": [
      "(12000, 100)\n"
     ]
    }
   ],
   "source": [
    "print(final_w2v_count_Test.shape)"
   ]
  },
  {
   "cell_type": "markdown",
   "metadata": {},
   "source": [
    "##### for Training datasets ,avg word2vec \n",
    "                 final_w2v_count_Train,                 \n",
    "              \n",
    "   \n",
    "##### for testing datasets ,avg word2vec \n",
    "                 final_w2v_count_Test, \n",
    "                "
   ]
  },
  {
   "cell_type": "code",
   "execution_count": 70,
   "metadata": {},
   "outputs": [
    {
     "name": "stderr",
     "output_type": "stream",
     "text": [
      "100%|██████████| 2/2 [00:42<00:00, 21.07s/it]\n"
     ]
    }
   ],
   "source": [
    "vectorization='Avg Word2Vec'\n",
    "optimal_lambda = optimal_svm(final_w2v_count_Train ,\n",
    "                             Train_data,\n",
    "                             final_w2v_count_Test,\n",
    "                             y_test_new,vectorization )"
   ]
  },
  {
   "cell_type": "code",
   "execution_count": 71,
   "metadata": {},
   "outputs": [
    {
     "name": "stdout",
     "output_type": "stream",
     "text": [
      "|    Model    | Vectorizer |  SearchCV  |Scoring Metrics|Train_model_score|Test_model_score|Best lambda|\n",
      "|-------------|------------|------------|---------------|----------------:|---------------:|----------:|\n",
      "|SGDClassifier|BOW         |GridSearchCV|f1             |         0.000201|           0.000|      5.000|\n",
      "|SGDClassifier|BOW         |GridSearchCV|roc_auc        |         0.837396|           0.820|      0.050|\n",
      "|SGDClassifier|Avg Word2Vec|GridSearchCV|f1             |         0.338159|           0.000|     10.000|\n",
      "|SGDClassifier|Avg Word2Vec|GridSearchCV|roc_auc        |         0.881242|           0.880|      0.005|\n",
      "\n"
     ]
    }
   ],
   "source": [
    "columns = [\"Model\",\"Vectorizer\",\"SearchCV\",\n",
    "           \"Scoring Metrics\",\"Train_model_score\",\n",
    "           \"Test_model_score\",\"Best lambda\"]\n",
    "df3=pd.DataFrame(models_performence, columns=columns)\n",
    "result_display(df3)     \n",
    "   "
   ]
  },
  {
   "cell_type": "markdown",
   "metadata": {},
   "source": [
    "|    Model    | Vectorizer |  SearchCV  |Scoring Metrics|Train_model_score|Test_model_score|Best lambda|\n",
    "|-------------|------------|------------|---------------|----------------:|---------------:|----------:|\n",
    "|SGDClassifier|BOW         |GridSearchCV|f1             |         0.000201|           0.000|      5.000|\n",
    "|SGDClassifier|BOW         |GridSearchCV|roc_auc        |         0.837396|           0.820|      0.050|\n",
    "|SGDClassifier|Avg Word2Vec|GridSearchCV|f1             |         0.338159|           0.000|     10.000|\n",
    "|SGDClassifier|Avg Word2Vec|GridSearchCV|roc_auc        |         0.881242|           0.880|      0.005|"
   ]
  },
  {
   "cell_type": "code",
   "execution_count": 72,
   "metadata": {},
   "outputs": [
    {
     "name": "stdout",
     "output_type": "stream",
     "text": [
      "10.0\n"
     ]
    }
   ],
   "source": [
    "df=pd.DataFrame(models_performence, columns=columns)\n",
    "df=df[df['Vectorizer'] == 'Avg Word2Vec']\n",
    "zx=df[df['Scoring Metrics'] == 'f1']['Best lambda'].ravel()\n",
    "lambdax=zx[0]\n",
    "print(lambdax)"
   ]
  },
  {
   "cell_type": "code",
   "execution_count": 73,
   "metadata": {},
   "outputs": [],
   "source": [
    "#Best lambda \n",
    "hp1=dict(alpha=[lambdax])\n",
    "SGD_clf = linear_model.SGDClassifier(loss='hinge',n_iter=1000,\n",
    "                                     learning_rate='optimal',\n",
    "                                     class_weight='balanced',\n",
    "                                     n_jobs= -1)\n",
    "          \n",
    "svm3 =GridSearchCV(SGD_clf,hp1, scoring ='f1', cv=tscv,n_jobs= -1)\n",
    "svm3.fit(final_w2v_count_Train ,Train_data)\n",
    "\n",
    "prediction3 =svm3.predict( final_w2v_count_Test)\n"
   ]
  },
  {
   "cell_type": "code",
   "execution_count": 74,
   "metadata": {},
   "outputs": [
    {
     "name": "stdout",
     "output_type": "stream",
     "text": [
      "training accuracy= 0.8605808546928666\n",
      "training error is = 0.1394191453071334\n"
     ]
    }
   ],
   "source": [
    "#Training accuracy and training error\n",
    "training_score=svm3.score(final_w2v_count_Train ,Train_data)\n",
    "print('training accuracy=',training_score)\n",
    "training_error=1-training_score\n",
    "print('training error is =',training_error)"
   ]
  },
  {
   "cell_type": "code",
   "execution_count": 75,
   "metadata": {},
   "outputs": [
    {
     "name": "stdout",
     "output_type": "stream",
     "text": [
      "Accuracy for  model with Avg word2vec is =  0.67483\n",
      "Testing error for  model with Avg word2ve is =  0.32516999999999996\n"
     ]
    }
   ],
   "source": [
    "# Testing Accuracy and testing error for  model\n",
    "Testing_score=round(accuracy_score(y_test_new ,prediction3),5)\n",
    "print(\"Accuracy for  model with Avg word2vec is = \",Testing_score)\n",
    "Testing_error=1-Testing_score\n",
    "print(\"Testing error for  model with Avg word2ve is = \",Testing_error)"
   ]
  },
  {
   "cell_type": "code",
   "execution_count": 76,
   "metadata": {},
   "outputs": [],
   "source": [
    "F1_score = round(f1_score(y_test_new ,prediction3,average='macro'),5)*100\n",
    "recall = round(recall_score(y_test_new,prediction3,average='macro'),5)*100\n",
    "precision = round(precision_score(y_test_new ,prediction3,average='macro'),5)*100"
   ]
  },
  {
   "cell_type": "code",
   "execution_count": 77,
   "metadata": {},
   "outputs": [
    {
     "name": "stdout",
     "output_type": "stream",
     "text": [
      "             precision    recall  f1-score   support\n",
      "\n",
      "          0       0.83      0.00      0.00      3906\n",
      "          1       0.67      1.00      0.81      8094\n",
      "\n",
      "avg / total       0.73      0.67      0.54     12000\n",
      "\n"
     ]
    }
   ],
   "source": [
    "print(classification_report( y_test_new,prediction3))"
   ]
  },
  {
   "cell_type": "code",
   "execution_count": 78,
   "metadata": {},
   "outputs": [
    {
     "data": {
      "image/png": "[encoded data removed]",
      "text/plain": [
       "<Figure size 432x288 with 2 Axes>"
      ]
     },
     "metadata": {},
     "output_type": "display_data"
    }
   ],
   "source": [
    "cm = confusion_matrix(y_test_new,prediction3)\n",
    "label = ['negative', 'positive']\n",
    "df_conf = pd.DataFrame(cm, index = label, columns = label)\n",
    "sns.heatmap(df_conf, annot = True, fmt = \"d\")\n",
    "plt.title(\"Confusiion Matrix\")\n",
    "plt.xlabel(\"Predicted Label\")\n",
    "plt.ylabel(\"True Label\")\n",
    "plt.show()"
   ]
  },
  {
   "cell_type": "code",
   "execution_count": 79,
   "metadata": {},
   "outputs": [
    {
     "name": "stderr",
     "output_type": "stream",
     "text": [
      "100%|██████████| 15/15 [05:09<00:00, 20.61s/it]\n"
     ]
    },
    {
     "data": {
      "image/png": "[encoded data removed]",
      "text/plain": [
       "<Figure size 432x288 with 1 Axes>"
      ]
     },
     "metadata": {},
     "output_type": "display_data"
    }
   ],
   "source": [
    "classifier=SGD_clf\n",
    "p='f1'\n",
    "error_plot(classifier,p,\n",
    "           final_w2v_count_Train ,\n",
    "           Train_data, \n",
    "           final_w2v_count_Test,\n",
    "           y_test_new)"
   ]
  },
  {
   "cell_type": "code",
   "execution_count": 80,
   "metadata": {},
   "outputs": [],
   "source": [
    "models_performence1['Model'].append('SGD_clf')\n",
    "models_performence1['Vectorizer'].append(vectorization)\n",
    "\n",
    "models_performence1[ 'Optimal lambda'].append(lambdax)\n",
    "models_performence1['Training error'].append(training_error)\n",
    "models_performence1[ 'Test error'].append(Testing_error)\n",
    "models_performence1[ 'Accuracy'].append(Testing_score)\n",
    "models_performence1[ 'F1'].append(F1_score)\n",
    "models_performence1['recall'].append(recall)\n",
    "models_performence1[ 'precision'].append(precision)\n"
   ]
  },
  {
   "cell_type": "code",
   "execution_count": 81,
   "metadata": {
    "scrolled": false
   },
   "outputs": [
    {
     "name": "stdout",
     "output_type": "stream",
     "text": [
      "|    Model    | Vectorizer |Optimal lambda|Training error|Test error|Accuracy| F1  |recall|precision|\n",
      "|-------------|------------|-------------:|-------------:|---------:|-------:|----:|-----:|--------:|\n",
      "|SGD_clf      |BOW         |          5.00|        0.1670|    0.3233|  0.6767|41.24| 50.40|    73.81|\n",
      "|SGDClassifier|BOW         |          0.05|        0.1626|    0.2435|  0.7565|73.65| 75.18|    73.06|\n",
      "|SGD_clf      |Avg Word2Vec|         10.00|        0.1394|    0.3252|  0.6748|40.42| 50.06|    75.40|\n",
      "\n"
     ]
    }
   ],
   "source": [
    "columns = [\"Model\",\"Vectorizer\",\"Optimal lambda\",\n",
    "           \"Training error\",  \"Test error\",\n",
    "            \"Accuracy\",\"F1\",\"recall\",\"precision\",\n",
    "          ]\n",
    "df4=pd.DataFrame(models_performence1, columns=columns)\n",
    "result_display(df4)"
   ]
  },
  {
   "cell_type": "markdown",
   "metadata": {},
   "source": [
    "### Observation"
   ]
  },
  {
   "cell_type": "markdown",
   "metadata": {},
   "source": [
    "|    Model    | Vectorizer |Optimal lambda|Training error|Test error|Accuracy| F1  |recall|precision|\n",
    "|-------------|------------|-------------:|-------------:|---------:|-------:|----:|-----:|--------:|\n",
    "|SGD_clf      |BOW         |          5.00|        0.1670|    0.3233|  0.6767|41.24| 50.40|    73.81|\n",
    "|SGDClassifier|BOW         |          0.05|        0.1626|    0.2435|  0.7565|73.65| 75.18|    73.06|\n",
    "|SGD_clf      |Avg Word2Vec|         10.00|        0.1394|    0.3252|  0.6748|40.42| 50.06|    75.40|\n"
   ]
  },
  {
   "cell_type": "markdown",
   "metadata": {},
   "source": [
    "* Using Avg Word2vec & scoring metrics f1, Optimal lambda for model is 10.\n",
    "* TPR & FPR is too high and TNR & FNR is too low.\n",
    "* Performance of traing and testing with different lamda values are shown in figure.\n",
    "* Precision istoo high and F1 is too low."
   ]
  },
  {
   "cell_type": "code",
   "execution_count": 82,
   "metadata": {},
   "outputs": [
    {
     "name": "stdout",
     "output_type": "stream",
     "text": [
      "0.005\n"
     ]
    }
   ],
   "source": [
    "\n",
    "zx=df[df['Scoring Metrics'] == 'roc_auc']['Best lambda'].ravel()\n",
    "lambdax=zx[0]\n",
    "print(lambdax)"
   ]
  },
  {
   "cell_type": "code",
   "execution_count": 83,
   "metadata": {},
   "outputs": [],
   "source": [
    "#Best lambda \n",
    "hp1=dict(alpha=[lambdax])\n",
    "SGD_clf = linear_model.SGDClassifier(loss='hinge',\n",
    "                                     n_iter=1000,\n",
    "                                     learning_rate='optimal',\n",
    "                                     class_weight='balanced',\n",
    "                                      n_jobs= -1)\n",
    "          \n",
    "svm4 =GridSearchCV(SGD_clf, hp1, \n",
    "                   scoring ='roc_auc', \n",
    "                   cv=tscv,n_jobs= -1)\n",
    "svm4.fit(final_w2v_count_Train ,Train_data)\n",
    "\n",
    "prediction4 = svm4.predict(final_w2v_count_Test)"
   ]
  },
  {
   "cell_type": "code",
   "execution_count": 84,
   "metadata": {},
   "outputs": [
    {
     "name": "stdout",
     "output_type": "stream",
     "text": [
      "training accuracy= 0.8814606970701757\n",
      "training error is = 0.11853930292982429\n"
     ]
    }
   ],
   "source": [
    "#Training accuracy and training error\n",
    "training_score=svm4.score(final_w2v_count_Train ,Train_data)\n",
    "print('training accuracy=',training_score)\n",
    "training_error=1-training_score\n",
    "print('training error is =',training_error)"
   ]
  },
  {
   "cell_type": "code",
   "execution_count": 85,
   "metadata": {},
   "outputs": [
    {
     "name": "stdout",
     "output_type": "stream",
     "text": [
      "Accuracy for SGD_clf model with Avg word2ve is =  0.478\n",
      "Testing error for SGD_clf model with Avg word2ve is =  0.522\n"
     ]
    }
   ],
   "source": [
    "# Testing Accuracy and testing error \n",
    "\n",
    "Testing_score=round(accuracy_score(y_test_new ,prediction4),5)\n",
    "print(\"Accuracy for SGD_clf model with Avg word2ve is = \",Testing_score)\n",
    "Testing_error=1-Testing_score\n",
    "print(\"Testing error for SGD_clf model with Avg word2ve is = \",Testing_error)"
   ]
  },
  {
   "cell_type": "code",
   "execution_count": 86,
   "metadata": {},
   "outputs": [],
   "source": [
    "F1_score = round(f1_score(y_test_new ,prediction4,average='macro'),5)*100\n",
    "recall = round(recall_score(y_test_new,prediction4,average='macro'),5)*100\n",
    "precision = round(precision_score(y_test_new ,prediction4,average='macro'),5)*100"
   ]
  },
  {
   "cell_type": "code",
   "execution_count": 87,
   "metadata": {},
   "outputs": [
    {
     "name": "stdout",
     "output_type": "stream",
     "text": [
      "             precision    recall  f1-score   support\n",
      "\n",
      "          0       0.38      0.99      0.55      3906\n",
      "          1       0.99      0.23      0.37      8094\n",
      "\n",
      "avg / total       0.79      0.48      0.43     12000\n",
      "\n"
     ]
    }
   ],
   "source": [
    "print(classification_report( y_test_new,prediction4))"
   ]
  },
  {
   "cell_type": "code",
   "execution_count": 88,
   "metadata": {},
   "outputs": [
    {
     "data": {
      "image/png": "[encoded data removed]",
      "text/plain": [
       "<Figure size 432x288 with 2 Axes>"
      ]
     },
     "metadata": {},
     "output_type": "display_data"
    }
   ],
   "source": [
    "cm = confusion_matrix(y_test_new,prediction4)\n",
    "label = ['negative', 'positive']\n",
    "df_conf = pd.DataFrame(cm, index = label, columns = label)\n",
    "sns.heatmap(df_conf, annot = True, fmt = \"d\")\n",
    "plt.title(\"Confusiion Matrix\")\n",
    "plt.xlabel(\"Predicted Label\")\n",
    "plt.ylabel(\"True Label\")\n",
    "plt.show()"
   ]
  },
  {
   "cell_type": "code",
   "execution_count": 89,
   "metadata": {},
   "outputs": [
    {
     "name": "stderr",
     "output_type": "stream",
     "text": [
      "100%|██████████| 15/15 [05:17<00:00, 21.20s/it]\n"
     ]
    },
    {
     "data": {
      "image/png": "[encoded data removed]",
      "text/plain": [
       "<Figure size 432x288 with 1 Axes>"
      ]
     },
     "metadata": {},
     "output_type": "display_data"
    }
   ],
   "source": [
    "classifier=SGD_clf\n",
    "p='roc_auc'\n",
    "error_plot(classifier,p,\n",
    "           final_w2v_count_Train ,Train_data,\n",
    "           final_w2v_count_Test,y_test_new)"
   ]
  },
  {
   "cell_type": "code",
   "execution_count": 90,
   "metadata": {},
   "outputs": [],
   "source": [
    "models_performence1['Model'].append('SGD_clf')\n",
    "models_performence1['Vectorizer'].append(vectorization)\n",
    "\n",
    "models_performence1[ 'Optimal lambda'].append(lambdax)\n",
    "models_performence1['Training error'].append(training_error)\n",
    "models_performence1[ 'Test error'].append(Testing_error)\n",
    "models_performence1[ 'Accuracy'].append(Testing_score)\n",
    "models_performence1[ 'F1'].append(F1_score)\n",
    "models_performence1['recall'].append(recall)\n",
    "models_performence1[ 'precision'].append(precision)"
   ]
  },
  {
   "cell_type": "code",
   "execution_count": 91,
   "metadata": {},
   "outputs": [
    {
     "name": "stdout",
     "output_type": "stream",
     "text": [
      "|    Model    | Vectorizer |Optimal lambda|Training error|Test error|Accuracy| F1  |recall|precision|\n",
      "|-------------|------------|-------------:|-------------:|---------:|-------:|----:|-----:|--------:|\n",
      "|SGD_clf      |BOW         |         5.000|        0.1670|    0.3233|  0.6767|41.24| 50.40|    73.81|\n",
      "|SGDClassifier|BOW         |         0.050|        0.1626|    0.2435|  0.7565|73.65| 75.18|    73.06|\n",
      "|SGD_clf      |Avg Word2Vec|        10.000|        0.1394|    0.3252|  0.6748|40.42| 50.06|    75.40|\n",
      "|SGD_clf      |Avg Word2Vec|         0.005|        0.1185|    0.5220|  0.4780|46.27| 61.13|    68.48|\n",
      "\n"
     ]
    }
   ],
   "source": [
    "columns = [\"Model\",\"Vectorizer\",\"Optimal lambda\", \"Training error\",  \"Test error\",\n",
    "            \"Accuracy\",\"F1\",\"recall\",\"precision\",\n",
    "          ]\n",
    "df5=pd.DataFrame(models_performence1, columns=columns)\n",
    "result_display(df5)"
   ]
  },
  {
   "cell_type": "markdown",
   "metadata": {},
   "source": [
    "### Observation"
   ]
  },
  {
   "cell_type": "markdown",
   "metadata": {},
   "source": [
    "|    Model    | Vectorizer |Optimal lambda|Training error|Test error|Accuracy| F1  |recall|precision|\n",
    "|-------------|------------|-------------:|-------------:|---------:|-------:|----:|-----:|--------:|\n",
    "|SGD_clf      |BOW         |         5.000|        0.1670|    0.3233|  0.6767|41.24| 50.40|    73.81|\n",
    "|SGDClassifier|BOW         |         0.050|        0.1626|    0.2435|  0.7565|73.65| 75.18|    73.06|\n",
    "|SGD_clf      |Avg Word2Vec|        10.000|        0.1394|    0.3252|  0.6748|40.42| 50.06|    75.40|\n",
    "|SGD_clf      |Avg Word2Vec|         0.005|        0.1185|    0.5220|  0.4780|46.27| 61.13|    68.48|"
   ]
  },
  {
   "cell_type": "markdown",
   "metadata": {},
   "source": [
    "* Optimal lambda using SGD_clf with scoring metrics \"roc_auc\" is 0.005.\n",
    "* TNR & FNR is too high as compared to TPR & FPR.\n",
    "* Error is high for highest value of lambda as seen in performance metrics.\n"
   ]
  },
  {
   "cell_type": "markdown",
   "metadata": {},
   "source": [
    "##### TF-IDF for Training data"
   ]
  },
  {
   "cell_type": "code",
   "execution_count": 92,
   "metadata": {},
   "outputs": [],
   "source": [
    "\n",
    "tf_idf_vect = TfidfVectorizer(ngram_range=(1,2))\n",
    "final_tf_idf11 = tf_idf_vect.fit_transform(X_train_data.values.ravel())\n",
    "final_tf_idf11.get_shape()\n",
    "tfidf_feat = tf_idf_vect.get_feature_names() "
   ]
  },
  {
   "cell_type": "code",
   "execution_count": 93,
   "metadata": {},
   "outputs": [
    {
     "name": "stdout",
     "output_type": "stream",
     "text": [
      "TruncatedSVD : (28000, 100)\n"
     ]
    }
   ],
   "source": [
    "final_tf_idf=svd.fit_transform(final_tf_idf11 )\n",
    "print(\"TruncatedSVD :\",final_tf_idf.shape)\n"
   ]
  },
  {
   "cell_type": "markdown",
   "metadata": {},
   "source": [
    "#### Dumping & Loading Pickle file for training data (TF-IDF)"
   ]
  },
  {
   "cell_type": "code",
   "execution_count": 94,
   "metadata": {},
   "outputs": [],
   "source": [
    "pickle_path_tfidf_train='X_train_data_tfidf.pkl'\n",
    "X_train_data_tfidf=open(pickle_path_tfidf_train,'wb')\n",
    "pickle.dump(final_tf_idf ,X_train_data_tfidf)\n",
    "X_train_data_tfidf.close()"
   ]
  },
  {
   "cell_type": "code",
   "execution_count": 95,
   "metadata": {},
   "outputs": [],
   "source": [
    "pickle_path_tfidf_train='X_train_data_tfidf.pkl'\n",
    "unpickle_path5=open(pickle_path_tfidf_train,'rb')\n",
    "final_tf_idf=pickle.load(unpickle_path5)"
   ]
  },
  {
   "cell_type": "code",
   "execution_count": 96,
   "metadata": {},
   "outputs": [
    {
     "name": "stdout",
     "output_type": "stream",
     "text": [
      "Train Data:  (28000, 100)\n"
     ]
    }
   ],
   "source": [
    "#StandardScaleing and normalizing training Tf-IDF\n",
    "final_tfidf_np= StandardScaler(with_mean=False).fit_transform(final_tf_idf)\n",
    "\n",
    "print(\"Train Data: \",final_tfidf_np.shape)\n",
    "\n",
    "\n",
    "warnings.filterwarnings(\"ignore\")    "
   ]
  },
  {
   "cell_type": "markdown",
   "metadata": {},
   "source": [
    "##### tf-idf For Testing datasets "
   ]
  },
  {
   "cell_type": "code",
   "execution_count": 97,
   "metadata": {},
   "outputs": [
    {
     "data": {
      "text/plain": [
       "(12000, 493550)"
      ]
     },
     "execution_count": 97,
     "metadata": {},
     "output_type": "execute_result"
    }
   ],
   "source": [
    "final_tf_idf_test1_svd = tf_idf_vect.transform(X_test_data.values.ravel())\n",
    "final_tf_idf_test1_svd.get_shape()"
   ]
  },
  {
   "cell_type": "code",
   "execution_count": 98,
   "metadata": {},
   "outputs": [
    {
     "name": "stdout",
     "output_type": "stream",
     "text": [
      "TruncatedSVD : (12000, 100)\n"
     ]
    }
   ],
   "source": [
    "\n",
    "final_tf_idf_test1=svd.transform(final_tf_idf_test1_svd)\n",
    "print(\"TruncatedSVD :\",final_tf_idf_test1.shape)\n",
    "#Normalize Data\n",
    "#X_sparse_tsvd = svd.fit(vect_Data1).transform(X_sparse)"
   ]
  },
  {
   "cell_type": "markdown",
   "metadata": {},
   "source": [
    "#### Dumping & Loading Pickle file for testing data(TF-IDF)"
   ]
  },
  {
   "cell_type": "code",
   "execution_count": 99,
   "metadata": {},
   "outputs": [],
   "source": [
    "\n",
    "pickle_path_tfidf_test='X_test_data_tfidf.pkl'\n",
    "X_test_data_tfidf=open(pickle_path_tfidf_test,'wb')\n",
    "pickle.dump(final_tf_idf_test1 ,X_test_data_tfidf)\n",
    "X_test_data_tfidf.close()"
   ]
  },
  {
   "cell_type": "code",
   "execution_count": 100,
   "metadata": {},
   "outputs": [],
   "source": [
    "pickle_path_tfidf_test='X_test_data_tfidf.pkl'\n",
    "unpickle_path6=open(pickle_path_tfidf_test,'rb')\n",
    "final_tfidf_np_test=pickle.load(unpickle_path6)"
   ]
  },
  {
   "cell_type": "code",
   "execution_count": 101,
   "metadata": {},
   "outputs": [
    {
     "name": "stderr",
     "output_type": "stream",
     "text": [
      "100%|██████████| 2/2 [00:42<00:00, 21.48s/it]\n"
     ]
    }
   ],
   "source": [
    "vectorization='TF-IDF'\n",
    "optimal_lambda = optimal_svm(final_tfidf_np ,\n",
    "                             Train_data,final_tfidf_np_test,\n",
    "                             y_test_new,vectorization )\n"
   ]
  },
  {
   "cell_type": "code",
   "execution_count": 102,
   "metadata": {},
   "outputs": [
    {
     "name": "stdout",
     "output_type": "stream",
     "text": [
      "|    Model    | Vectorizer |  SearchCV  |Scoring Metrics|Train_model_score|Test_model_score|Best lambda|\n",
      "|-------------|------------|------------|---------------|----------------:|---------------:|----------:|\n",
      "|SGDClassifier|BOW         |GridSearchCV|f1             |         0.000201|           0.000|      5.000|\n",
      "|SGDClassifier|BOW         |GridSearchCV|roc_auc        |         0.837396|           0.820|      0.050|\n",
      "|SGDClassifier|Avg Word2Vec|GridSearchCV|f1             |         0.338159|           0.000|     10.000|\n",
      "|SGDClassifier|Avg Word2Vec|GridSearchCV|roc_auc        |         0.881242|           0.880|      0.005|\n",
      "|SGDClassifier|TF-IDF      |GridSearchCV|f1             |         0.767114|           0.000|      1.000|\n",
      "|SGDClassifier|TF-IDF      |GridSearchCV|roc_auc        |         0.892100|           0.886|      0.005|\n",
      "\n"
     ]
    }
   ],
   "source": [
    "columns = [\"Model\",\"Vectorizer\",\"SearchCV\",\n",
    "           \"Scoring Metrics\",\"Train_model_score\",\n",
    "           \"Test_model_score\",\"Best lambda\"]\n",
    "df6=pd.DataFrame(models_performence, columns=columns)\n",
    "result_display(df6)    \n",
    "   "
   ]
  },
  {
   "cell_type": "markdown",
   "metadata": {},
   "source": [
    "|    Model    | Vectorizer |  SearchCV  |Scoring Metrics|Train_model_score|Test_model_score|Best lambda|\n",
    "|-------------|------------|------------|---------------|----------------:|---------------:|----------:|\n",
    "|SGDClassifier|BOW         |GridSearchCV|f1             |         0.000201|           0.000|      5.000|\n",
    "|SGDClassifier|BOW         |GridSearchCV|roc_auc        |         0.837396|           0.820|      0.050|\n",
    "|SGDClassifier|Avg Word2Vec|GridSearchCV|f1             |         0.338159|           0.000|     10.000|\n",
    "|SGDClassifier|Avg Word2Vec|GridSearchCV|roc_auc        |         0.881242|           0.880|      0.005|\n",
    "|SGDClassifier|TF-IDF      |GridSearchCV|f1             |         0.767114|           0.000|      1.000|\n",
    "|SGDClassifier|TF-IDF      |GridSearchCV|roc_auc        |         0.892100|           0.886|      0.005|"
   ]
  },
  {
   "cell_type": "code",
   "execution_count": 103,
   "metadata": {},
   "outputs": [
    {
     "name": "stdout",
     "output_type": "stream",
     "text": [
      "1.0\n"
     ]
    }
   ],
   "source": [
    "df=pd.DataFrame(models_performence, columns=columns)\n",
    "df=df[df['Vectorizer'] == 'TF-IDF']\n",
    "zx=df[df['Scoring Metrics'] == 'f1']['Best lambda'].ravel()\n",
    "lambdax=zx[0]\n",
    "print(lambdax)"
   ]
  },
  {
   "cell_type": "code",
   "execution_count": 104,
   "metadata": {},
   "outputs": [],
   "source": [
    "#Best lambda \n",
    "hp1=dict(alpha=[lambdax])\n",
    "SGD_clf = linear_model.SGDClassifier(loss='hinge',\n",
    "                                     n_iter=1000,\n",
    "                                     learning_rate='optimal',\n",
    "                                     class_weight='balanced',\n",
    "                                     \n",
    "                                    n_jobs= -1)\n",
    "          \n",
    "svm5 =GridSearchCV(SGD_clf,hp1,\n",
    "                   scoring ='f1',\n",
    "                   cv=tscv,n_jobs= -1)\n",
    "svm5.fit(final_tfidf_np ,Train_data)\n",
    "\n",
    "prediction5 =svm5.predict(final_tfidf_np_test)\n"
   ]
  },
  {
   "cell_type": "code",
   "execution_count": 105,
   "metadata": {},
   "outputs": [
    {
     "name": "stdout",
     "output_type": "stream",
     "text": [
      "training accuracy= 0.8710525643971305\n",
      "training error is = 0.12894743560286948\n"
     ]
    }
   ],
   "source": [
    "#Training accuracy and training error\n",
    "training_score=svm5.score(final_tfidf_np ,Train_data)\n",
    "print('training accuracy=',training_score)\n",
    "training_error=1-training_score\n",
    "print('training error is =',training_error)"
   ]
  },
  {
   "cell_type": "code",
   "execution_count": 106,
   "metadata": {},
   "outputs": [
    {
     "name": "stdout",
     "output_type": "stream",
     "text": [
      "Accuracy for SGD_clf model with TF-IDF is =  0.6745\n",
      "Testing error for SGD_clf model with TF-IDF is =  0.3255\n"
     ]
    }
   ],
   "source": [
    "# Testing Accuracy and testing error \n",
    "\n",
    "Testing_score=round(accuracy_score(y_test_new ,prediction5),5)\n",
    "print(\"Accuracy for SGD_clf model with TF-IDF is = \",Testing_score)\n",
    "Testing_error=1-Testing_score\n",
    "print(\"Testing error for SGD_clf model with TF-IDF is = \",Testing_error)"
   ]
  },
  {
   "cell_type": "code",
   "execution_count": 107,
   "metadata": {},
   "outputs": [],
   "source": [
    "F1_score = round(f1_score(y_test_new ,prediction5,average='macro'),5)*100\n",
    "recall = round(recall_score(y_test_new,prediction5,average='macro'),5)*100\n",
    "precision = round(precision_score(y_test_new ,prediction5,average='macro'),5)*100"
   ]
  },
  {
   "cell_type": "code",
   "execution_count": 108,
   "metadata": {},
   "outputs": [
    {
     "name": "stdout",
     "output_type": "stream",
     "text": [
      "             precision    recall  f1-score   support\n",
      "\n",
      "          0       0.00      0.00      0.00      3906\n",
      "          1       0.67      1.00      0.81      8094\n",
      "\n",
      "avg / total       0.45      0.67      0.54     12000\n",
      "\n"
     ]
    }
   ],
   "source": [
    "print(classification_report( y_test_new,prediction5))"
   ]
  },
  {
   "cell_type": "code",
   "execution_count": 109,
   "metadata": {},
   "outputs": [
    {
     "data": {
      "image/png": "[encoded data removed]",
      "text/plain": [
       "<Figure size 432x288 with 2 Axes>"
      ]
     },
     "metadata": {},
     "output_type": "display_data"
    }
   ],
   "source": [
    "cm = confusion_matrix(y_test_new ,prediction5)\n",
    "label = ['negative', 'positive']\n",
    "df_conf = pd.DataFrame(cm, index = label, columns = label)\n",
    "sns.heatmap(df_conf, annot = True, fmt = \"d\")\n",
    "plt.title(\"Confusiion Matrix\")\n",
    "plt.xlabel(\"Predicted Label\")\n",
    "plt.ylabel(\"True Label\")\n",
    "plt.show()"
   ]
  },
  {
   "cell_type": "code",
   "execution_count": 110,
   "metadata": {},
   "outputs": [
    {
     "name": "stderr",
     "output_type": "stream",
     "text": [
      "100%|██████████| 15/15 [05:19<00:00, 21.28s/it]\n"
     ]
    },
    {
     "data": {
      "image/png": "[encoded data removed]",
      "text/plain": [
       "<Figure size 432x288 with 1 Axes>"
      ]
     },
     "metadata": {},
     "output_type": "display_data"
    }
   ],
   "source": [
    "classifier=SGD_clf\n",
    "p='f1'\n",
    "error_plot(classifier,p,final_tfidf_np ,\n",
    "           Train_data,\n",
    "           final_tfidf_np_test,y_test_new)"
   ]
  },
  {
   "cell_type": "code",
   "execution_count": 111,
   "metadata": {},
   "outputs": [],
   "source": [
    "models_performence1['Model'].append('SGD_clf')\n",
    "models_performence1['Vectorizer'].append(vectorization)\n",
    "\n",
    "models_performence1[ 'Optimal lambda'].append(lambdax)\n",
    "models_performence1['Training error'].append(training_error)\n",
    "models_performence1[ 'Test error'].append(Testing_error)\n",
    "models_performence1[ 'Accuracy'].append(Testing_score)\n",
    "models_performence1[ 'F1'].append(F1_score)\n",
    "models_performence1['recall'].append(recall)\n",
    "models_performence1[ 'precision'].append(precision)"
   ]
  },
  {
   "cell_type": "code",
   "execution_count": 112,
   "metadata": {},
   "outputs": [
    {
     "name": "stdout",
     "output_type": "stream",
     "text": [
      "|    Model    | Vectorizer |Optimal lambda|Training error|Test error|Accuracy| F1  |recall|precision|\n",
      "|-------------|------------|-------------:|-------------:|---------:|-------:|----:|-----:|--------:|\n",
      "|SGD_clf      |BOW         |          5.00|        0.1670|    0.3233|  0.6767|41.24| 50.40|    73.81|\n",
      "|SGDClassifier|BOW         |          0.05|        0.1626|    0.2435|  0.7565|73.65| 75.18|    73.06|\n",
      "|SGD_clf      |Avg Word2Vec|         10.00|        0.1394|    0.3252|  0.6748|40.42| 50.06|    75.40|\n",
      "|SGD_clf      |Avg Word2Vec|          0.00|        0.1185|    0.5220|  0.4780|46.27| 61.13|    68.48|\n",
      "|SGD_clf      |TF-IDF      |          1.00|        0.1289|    0.3255|  0.6745|40.28| 50.00|    33.72|\n",
      "\n"
     ]
    }
   ],
   "source": [
    "columns = [\"Model\",\"Vectorizer\",\"Optimal lambda\",\n",
    "           \"Training error\",  \"Test error\",\n",
    "            \"Accuracy\",\"F1\",\"recall\",\"precision\",\n",
    "          ]\n",
    "df7=pd.DataFrame(models_performence1, columns=columns)\n",
    "result_display(df7)"
   ]
  },
  {
   "cell_type": "markdown",
   "metadata": {},
   "source": [
    "### Observation"
   ]
  },
  {
   "cell_type": "markdown",
   "metadata": {},
   "source": [
    "|    Model    | Vectorizer |Optimal lambda|Training error|Test error|Accuracy| F1  |recall|precision|\n",
    "|-------------|------------|-------------:|-------------:|---------:|-------:|----:|-----:|--------:|\n",
    "|SGD_clf      |BOW         |          5.00|        0.1670|    0.3233|  0.6767|41.24| 50.40|    73.81|\n",
    "|SGDClassifier|BOW         |          0.05|        0.1626|    0.2435|  0.7565|73.65| 75.18|    73.06|\n",
    "|SGD_clf      |Avg Word2Vec|         10.00|        0.1394|    0.3252|  0.6748|40.42| 50.06|    75.40|\n",
    "|SGD_clf      |Avg Word2Vec|          0.00|        0.1185|    0.5220|  0.4780|46.27| 61.13|    68.48|\n",
    "|SGD_clf      |TF-IDF      |          1.00|        0.1289|    0.3255|  0.6745|40.28| 50.00|    33.72|"
   ]
  },
  {
   "cell_type": "markdown",
   "metadata": {},
   "source": [
    "* Optimal lambda is 1 for TF_IDF with scoring metrics\"f1\".\n",
    "* Performnce of datasets with different lambda value is shown in graph.Traing graph and testing graph for different lambda values are almost overlapping each other when lambda value is high\n",
    "\n"
   ]
  },
  {
   "cell_type": "code",
   "execution_count": 113,
   "metadata": {},
   "outputs": [
    {
     "name": "stdout",
     "output_type": "stream",
     "text": [
      "0.005\n"
     ]
    }
   ],
   "source": [
    "zx=df[df['Scoring Metrics'] == 'roc_auc']['Best lambda'].ravel()\n",
    "lambdax=zx[0]\n",
    "print(lambdax)"
   ]
  },
  {
   "cell_type": "code",
   "execution_count": 114,
   "metadata": {},
   "outputs": [],
   "source": [
    "#Best lambda \n",
    "hp1=dict(alpha=[lambdax])\n",
    "SGD_clf = linear_model.SGDClassifier(loss='hinge',\n",
    "                                     n_iter=1000,\n",
    "                                     learning_rate='optimal',\n",
    "                                     class_weight='balanced',\n",
    "                                     n_jobs= -1)\n",
    "          \n",
    "svm6 =GridSearchCV(SGD_clf, hp1, \n",
    "                   scoring ='roc_auc', \n",
    "                   cv=tscv,n_jobs= -1)\n",
    "svm6.fit(final_tfidf_np ,Train_data)\n",
    "\n",
    "prediction6 = svm6.predict(final_tfidf_np_test)"
   ]
  },
  {
   "cell_type": "code",
   "execution_count": 115,
   "metadata": {},
   "outputs": [
    {
     "name": "stdout",
     "output_type": "stream",
     "text": [
      "training accuracy= 0.89207620082491\n",
      "training error is = 0.10792379917508998\n"
     ]
    }
   ],
   "source": [
    "#Training accuracy and training error\n",
    "training_score=svm6.score(final_tfidf_np,Train_data)\n",
    "print('training accuracy=',training_score)\n",
    "training_error=1-training_score\n",
    "print('training error is =',training_error)"
   ]
  },
  {
   "cell_type": "code",
   "execution_count": 116,
   "metadata": {},
   "outputs": [
    {
     "name": "stdout",
     "output_type": "stream",
     "text": [
      "Accuracy for SGD_clf model with TF-IDF is =  0.3255\n",
      "Testing error for SGD_clf model with TF-IDF is =  0.6745\n"
     ]
    }
   ],
   "source": [
    "# Testing Accuracy and testing error \n",
    "\n",
    "Testing_score=round(accuracy_score(y_test_new ,prediction6),5)\n",
    "print(\"Accuracy for SGD_clf model with TF-IDF is = \",Testing_score)\n",
    "Testing_error=1-Testing_score\n",
    "print(\"Testing error for SGD_clf model with TF-IDF is = \",Testing_error)"
   ]
  },
  {
   "cell_type": "code",
   "execution_count": 117,
   "metadata": {},
   "outputs": [],
   "source": [
    "F1_score = round(f1_score(y_test_new ,prediction6,average='macro'),5)*100\n",
    "recall = round(recall_score(y_test_new,prediction6,average='macro'),5)*100\n",
    "precision = round(precision_score(y_test_new ,prediction6,average='macro'),5)*100"
   ]
  },
  {
   "cell_type": "code",
   "execution_count": 118,
   "metadata": {},
   "outputs": [
    {
     "name": "stdout",
     "output_type": "stream",
     "text": [
      "             precision    recall  f1-score   support\n",
      "\n",
      "          0       0.33      1.00      0.49      3906\n",
      "          1       0.00      0.00      0.00      8094\n",
      "\n",
      "avg / total       0.11      0.33      0.16     12000\n",
      "\n"
     ]
    }
   ],
   "source": [
    "print(classification_report(y_test_new,prediction6))"
   ]
  },
  {
   "cell_type": "code",
   "execution_count": 119,
   "metadata": {},
   "outputs": [
    {
     "data": {
      "image/png": "[encoded data removed]",
      "text/plain": [
       "<Figure size 432x288 with 2 Axes>"
      ]
     },
     "metadata": {},
     "output_type": "display_data"
    }
   ],
   "source": [
    "cm = confusion_matrix(y_test_new ,prediction6)\n",
    "label = ['negative', 'positive']\n",
    "df_conf = pd.DataFrame(cm, index = label, columns = label)\n",
    "sns.heatmap(df_conf, annot = True, fmt = \"d\")\n",
    "plt.title(\"Confusiion Matrix\")\n",
    "plt.xlabel(\"Predicted Label\")\n",
    "plt.ylabel(\"True Label\")\n",
    "plt.show()"
   ]
  },
  {
   "cell_type": "code",
   "execution_count": 120,
   "metadata": {},
   "outputs": [
    {
     "name": "stderr",
     "output_type": "stream",
     "text": [
      "100%|██████████| 15/15 [05:13<00:00, 20.91s/it]\n"
     ]
    },
    {
     "data": {
      "image/png": "[encoded data removed]",
      "text/plain": [
       "<Figure size 432x288 with 1 Axes>"
      ]
     },
     "metadata": {},
     "output_type": "display_data"
    }
   ],
   "source": [
    "classifier=SGD_clf\n",
    "p='roc_auc'\n",
    "error_plot(classifier,p,\n",
    "           final_tfidf_np ,\n",
    "           Train_data,\n",
    "           final_tfidf_np_test,\n",
    "           y_test_new)"
   ]
  },
  {
   "cell_type": "code",
   "execution_count": 121,
   "metadata": {},
   "outputs": [],
   "source": [
    "models_performence1['Model'].append('SGD_clf')\n",
    "models_performence1['Vectorizer'].append(vectorization)\n",
    "\n",
    "models_performence1[ 'Optimal lambda'].append(lambdax)\n",
    "models_performence1['Training error'].append(training_error)\n",
    "models_performence1[ 'Test error'].append(Testing_error)\n",
    "models_performence1[ 'Accuracy'].append(Testing_score)\n",
    "models_performence1[ 'F1'].append(F1_score)\n",
    "models_performence1['recall'].append(recall)\n",
    "models_performence1[ 'precision'].append(precision)\n"
   ]
  },
  {
   "cell_type": "code",
   "execution_count": 122,
   "metadata": {
    "scrolled": false
   },
   "outputs": [
    {
     "name": "stdout",
     "output_type": "stream",
     "text": [
      "|    Model    | Vectorizer |Optimal lambda|Training error|Test error|Accuracy| F1  |recall|precision|\n",
      "|-------------|------------|-------------:|-------------:|---------:|-------:|----:|-----:|--------:|\n",
      "|SGD_clf      |BOW         |         5.000|        0.1670|    0.3233|  0.6767|41.24| 50.40|    73.81|\n",
      "|SGDClassifier|BOW         |         0.050|        0.1626|    0.2435|  0.7565|73.65| 75.18|    73.06|\n",
      "|SGD_clf      |Avg Word2Vec|        10.000|        0.1394|    0.3252|  0.6748|40.42| 50.06|    75.40|\n",
      "|SGD_clf      |Avg Word2Vec|         0.005|        0.1185|    0.5220|  0.4780|46.27| 61.13|    68.48|\n",
      "|SGD_clf      |TF-IDF      |         1.000|        0.1289|    0.3255|  0.6745|40.28| 50.00|    33.72|\n",
      "|SGD_clf      |TF-IDF      |         0.005|        0.1079|    0.6745|  0.3255|24.56| 50.00|    16.28|\n",
      "\n"
     ]
    }
   ],
   "source": [
    "columns = [\"Model\",\"Vectorizer\",\"Optimal lambda\",\n",
    "           \"Training error\",  \"Test error\",\n",
    "            \"Accuracy\",\"F1\",\"recall\",\"precision\",\n",
    "          ]\n",
    "df8=pd.DataFrame(models_performence1, columns=columns)\n",
    "result_display(df8)"
   ]
  },
  {
   "cell_type": "markdown",
   "metadata": {},
   "source": [
    "### Observation"
   ]
  },
  {
   "cell_type": "markdown",
   "metadata": {},
   "source": [
    "|    Model    | Vectorizer |Optimal lambda|Training error|Test error|Accuracy| F1  |recall|precision|\n",
    "|-------------|------------|-------------:|-------------:|---------:|-------:|----:|-----:|--------:|\n",
    "|SGD_clf      |BOW         |         5.000|        0.1670|    0.3233|  0.6767|41.24| 50.40|    73.81|\n",
    "|SGDClassifier|BOW         |         0.050|        0.1626|    0.2435|  0.7565|73.65| 75.18|    73.06|\n",
    "|SGD_clf      |Avg Word2Vec|        10.000|        0.1394|    0.3252|  0.6748|40.42| 50.06|    75.40|\n",
    "|SGD_clf      |Avg Word2Vec|         0.005|        0.1185|    0.5220|  0.4780|46.27| 61.13|    68.48|\n",
    "|SGD_clf      |TF-IDF      |         1.000|        0.1289|    0.3255|  0.6745|40.28| 50.00|    33.72|\n",
    "|SGD_clf      |TF-IDF      |         0.005|        0.1079|    0.6745|  0.3255|24.56| 50.00|    16.28|"
   ]
  },
  {
   "cell_type": "markdown",
   "metadata": {},
   "source": [
    "* SGD_clf using TF-IDF for scoring metrics \"roc_auc\" is 0.005.\n",
    "* Performance graph is as shown above.\n",
    "* TNR & FNR is high in case of SGD_clf using TF-IDF for scoring metrics \"roc_auc\"  whereas TPR & FPR is high in case of  SGD_clf using TF-IDF for scoring metrics \"f1\".\n"
   ]
  },
  {
   "cell_type": "markdown",
   "metadata": {},
   "source": [
    "#  4.TF-IDF weighted Word2Vec"
   ]
  },
  {
   "cell_type": "code",
   "execution_count": 123,
   "metadata": {},
   "outputs": [],
   "source": [
    "w2v_words = list(w2v_model.wv.vocab)"
   ]
  },
  {
   "cell_type": "code",
   "execution_count": 124,
   "metadata": {},
   "outputs": [],
   "source": [
    "tfidf_feat = tf_idf_vect.get_feature_names() \n",
    "dictionary = dict(zip(tf_idf_vect.get_feature_names(), list(tf_idf_vect.idf_)))"
   ]
  },
  {
   "cell_type": "code",
   "execution_count": 125,
   "metadata": {},
   "outputs": [
    {
     "name": "stderr",
     "output_type": "stream",
     "text": [
      "100%|██████████| 28000/28000 [15:02<00:00, 31.01it/s]\n"
     ]
    }
   ],
   "source": [
    "# TF-IDF weighted Word2Vec\n",
    "tfidf_feat =tf_idf_vect.get_feature_names() # tfidf words/col-names\n",
    "\n",
    "tfidf_sent_vectors = []; \n",
    "row=0;\n",
    "for sent in tqdm(X_train_data.values.ravel()): \n",
    "    sent_vec = np.zeros(100) \n",
    "    weight_sum =0;\n",
    "    for word in sent: \n",
    "        if word in w2v_words:\n",
    "            vec = w2v_model.wv[word]\n",
    "#             \n",
    "            tf_idf = dictionary[word]*sent.count(word)\n",
    "            sent_vec += (vec * tf_idf)\n",
    "            weight_sum += tf_idf\n",
    "    if weight_sum != 0:\n",
    "        sent_vec /= weight_sum\n",
    "    tfidf_sent_vectors .append(sent_vec)\n",
    "    row += 1"
   ]
  },
  {
   "cell_type": "code",
   "execution_count": 126,
   "metadata": {},
   "outputs": [
    {
     "name": "stdout",
     "output_type": "stream",
     "text": [
      "28000\n"
     ]
    }
   ],
   "source": [
    "print(len(tfidf_sent_vectors))"
   ]
  },
  {
   "cell_type": "code",
   "execution_count": 127,
   "metadata": {},
   "outputs": [
    {
     "name": "stdout",
     "output_type": "stream",
     "text": [
      "[0. 0. 0. 0. 0. 0. 0. 0. 0. 0. 0. 0. 0. 0. 0. 0. 0. 0. 0. 0. 0. 0. 0. 0.\n",
      " 0. 0. 0. 0. 0. 0. 0. 0. 0. 0. 0. 0. 0. 0. 0. 0. 0. 0. 0. 0. 0. 0. 0. 0.\n",
      " 0. 0. 0. 0. 0. 0. 0. 0. 0. 0. 0. 0. 0. 0. 0. 0. 0. 0. 0. 0. 0. 0. 0. 0.\n",
      " 0. 0. 0. 0. 0. 0. 0. 0. 0. 0. 0. 0. 0. 0. 0. 0. 0. 0. 0. 0. 0. 0. 0. 0.\n",
      " 0. 0. 0. 0.]\n",
      "[0. 0. 0. 0. 0. 0. 0. 0. 0. 0. 0. 0. 0. 0. 0. 0. 0. 0. 0. 0. 0. 0. 0. 0.\n",
      " 0. 0. 0. 0. 0. 0. 0. 0. 0. 0. 0. 0. 0. 0. 0. 0. 0. 0. 0. 0. 0. 0. 0. 0.\n",
      " 0. 0. 0. 0. 0. 0. 0. 0. 0. 0. 0. 0. 0. 0. 0. 0. 0. 0. 0. 0. 0. 0. 0. 0.\n",
      " 0. 0. 0. 0. 0. 0. 0. 0. 0. 0. 0. 0. 0. 0. 0. 0. 0. 0. 0. 0. 0. 0. 0. 0.\n",
      " 0. 0. 0. 0.]\n"
     ]
    }
   ],
   "source": [
    "print(tfidf_sent_vectors[2])\n",
    "tfidf_sent_vectors_train  = np.where(np.isnan(tfidf_sent_vectors ), 0, tfidf_sent_vectors )\n",
    "print(tfidf_sent_vectors_train[2])"
   ]
  },
  {
   "cell_type": "code",
   "execution_count": 128,
   "metadata": {},
   "outputs": [
    {
     "name": "stdout",
     "output_type": "stream",
     "text": [
      "<class 'list'>\n"
     ]
    }
   ],
   "source": [
    "tfidf_sent_vectors_train  = np.asarray(tfidf_sent_vectors_train )\n",
    "print(type(tfidf_sent_vectors))"
   ]
  },
  {
   "cell_type": "markdown",
   "metadata": {},
   "source": [
    "#### Dumping & Loading Pickle file for trainText data (TF-IDF weighted word2vec)"
   ]
  },
  {
   "cell_type": "code",
   "execution_count": 129,
   "metadata": {},
   "outputs": [],
   "source": [
    "pickle_path_tfidf_weighted='X_data_tfidf_weighted.pkl'\n",
    "X_data_tfidf_weighted=open(pickle_path_tfidf_weighted,'wb')\n",
    "pickle.dump(tfidf_sent_vectors_train  ,X_data_tfidf_weighted)\n",
    "X_data_tfidf_weighted.close()"
   ]
  },
  {
   "cell_type": "code",
   "execution_count": 130,
   "metadata": {},
   "outputs": [],
   "source": [
    "pickle_path_tfidf_weighted='X_data_tfidf_weighted.pkl'\n",
    "unpickle_path7=open(pickle_path_tfidf_weighted,'rb')\n",
    "tfidf_sent_vectors_train =pickle.load(unpickle_path7)"
   ]
  },
  {
   "cell_type": "code",
   "execution_count": 131,
   "metadata": {},
   "outputs": [],
   "source": [
    "final_tfidf_w2v_np_train= StandardScaler(with_mean=False).fit_transform(tfidf_sent_vectors_train)\n"
   ]
  },
  {
   "cell_type": "markdown",
   "metadata": {},
   "source": [
    "##### For test Tf-idf weighted word2vec"
   ]
  },
  {
   "cell_type": "code",
   "execution_count": 132,
   "metadata": {},
   "outputs": [
    {
     "name": "stderr",
     "output_type": "stream",
     "text": [
      "100%|██████████| 12000/12000 [06:40<00:00, 29.96it/s]\n"
     ]
    }
   ],
   "source": [
    "# TF-IDF weighted Word2Vec\n",
    "tfidf_feat =tf_idf_vect.get_feature_names() # tfidf words/col-names\n",
    "\n",
    "tfidf_sent_vectors1 = []; \n",
    "row=0;\n",
    "for sent in tqdm(X_test_data.values.ravel()): \n",
    "    sent_vec = np.zeros(100) \n",
    "    weight_sum =0;\n",
    "    for word in sent: \n",
    "        if word in w2v_words:\n",
    "            vec = w2v_model.wv[word]\n",
    "#             \n",
    "            tf_idf = dictionary[word]*sent.count(word)\n",
    "            sent_vec += (vec * tf_idf)\n",
    "            weight_sum += tf_idf\n",
    "    if weight_sum != 0:\n",
    "        sent_vec /= weight_sum\n",
    "    tfidf_sent_vectors1 .append(sent_vec)\n",
    "    row += 1"
   ]
  },
  {
   "cell_type": "code",
   "execution_count": 133,
   "metadata": {},
   "outputs": [
    {
     "name": "stdout",
     "output_type": "stream",
     "text": [
      "12000\n",
      "[0. 0. 0. 0. 0. 0. 0. 0. 0. 0. 0. 0. 0. 0. 0. 0. 0. 0. 0. 0. 0. 0. 0. 0.\n",
      " 0. 0. 0. 0. 0. 0. 0. 0. 0. 0. 0. 0. 0. 0. 0. 0. 0. 0. 0. 0. 0. 0. 0. 0.\n",
      " 0. 0. 0. 0. 0. 0. 0. 0. 0. 0. 0. 0. 0. 0. 0. 0. 0. 0. 0. 0. 0. 0. 0. 0.\n",
      " 0. 0. 0. 0. 0. 0. 0. 0. 0. 0. 0. 0. 0. 0. 0. 0. 0. 0. 0. 0. 0. 0. 0. 0.\n",
      " 0. 0. 0. 0.]\n",
      "[0. 0. 0. 0. 0. 0. 0. 0. 0. 0. 0. 0. 0. 0. 0. 0. 0. 0. 0. 0. 0. 0. 0. 0.\n",
      " 0. 0. 0. 0. 0. 0. 0. 0. 0. 0. 0. 0. 0. 0. 0. 0. 0. 0. 0. 0. 0. 0. 0. 0.\n",
      " 0. 0. 0. 0. 0. 0. 0. 0. 0. 0. 0. 0. 0. 0. 0. 0. 0. 0. 0. 0. 0. 0. 0. 0.\n",
      " 0. 0. 0. 0. 0. 0. 0. 0. 0. 0. 0. 0. 0. 0. 0. 0. 0. 0. 0. 0. 0. 0. 0. 0.\n",
      " 0. 0. 0. 0.]\n",
      "<class 'list'>\n"
     ]
    }
   ],
   "source": [
    "print(len(tfidf_sent_vectors1))\n",
    "print(tfidf_sent_vectors1[2])\n",
    "tfidf_sent_vectors_test  = np.where(np.isnan(tfidf_sent_vectors1 ),\n",
    "                                     0, tfidf_sent_vectors1 )\n",
    "print(tfidf_sent_vectors_test[2])\n",
    "final_tfidf_w2v_np_test = np.asarray(tfidf_sent_vectors_test )\n",
    "print(type(tfidf_sent_vectors1))"
   ]
  },
  {
   "cell_type": "markdown",
   "metadata": {},
   "source": [
    "#### Dumping & Loading Pickle file for test Text data (TF-IDF weighted word2vec)"
   ]
  },
  {
   "cell_type": "code",
   "execution_count": 134,
   "metadata": {},
   "outputs": [],
   "source": [
    "pickle_path_tfidf_weighted1='X_data_tfidf_weighted_test.pkl'\n",
    "X_data_tfidf_weighted1=open(pickle_path_tfidf_weighted1,'wb')\n",
    "pickle.dump(final_tfidf_w2v_np_test  ,X_data_tfidf_weighted1)\n",
    "X_data_tfidf_weighted1.close()"
   ]
  },
  {
   "cell_type": "code",
   "execution_count": 135,
   "metadata": {},
   "outputs": [],
   "source": [
    "pickle_path_tfidf_weighted1='X_data_tfidf_weighted_test.pkl'\n",
    "unpickle_path71=open(pickle_path_tfidf_weighted1,'rb')\n",
    "final_tfidf_w2v_np_test =pickle.load(unpickle_path71)"
   ]
  },
  {
   "cell_type": "markdown",
   "metadata": {},
   "source": [
    "for Training Data:\n",
    "\n",
    "            \n",
    "            final_tfidf_w2v_np_train\n",
    "\n",
    "For testing data:\n",
    "\n",
    "            \n",
    "            final_tfidf_w2v_np_test\n",
    "    "
   ]
  },
  {
   "cell_type": "markdown",
   "metadata": {},
   "source": [
    "### Optimal SVM for TF-IDF weighted Word2Vec"
   ]
  },
  {
   "cell_type": "code",
   "execution_count": 136,
   "metadata": {},
   "outputs": [
    {
     "name": "stderr",
     "output_type": "stream",
     "text": [
      "100%|██████████| 2/2 [00:50<00:00, 25.10s/it]\n"
     ]
    }
   ],
   "source": [
    "vectorization='TF-IDF weighted Word2Vec'\n",
    "optimal_lambda = optimal_svm(final_tfidf_w2v_np_train,\n",
    "                             Train_data,\n",
    "                             final_tfidf_w2v_np_test,\n",
    "                             y_test_new,vectorization )\n"
   ]
  },
  {
   "cell_type": "code",
   "execution_count": 137,
   "metadata": {},
   "outputs": [
    {
     "name": "stdout",
     "output_type": "stream",
     "text": [
      "|    Model    |       Vectorizer       |  SearchCV  |Scoring Metrics|Train_model_score|Test_model_score|Best lambda|\n",
      "|-------------|------------------------|------------|---------------|----------------:|---------------:|----------:|\n",
      "|SGDClassifier|BOW                     |GridSearchCV|f1             |          0.00020|          0.0000|       5.00|\n",
      "|SGDClassifier|BOW                     |GridSearchCV|roc_auc        |          0.83740|          0.8197|       0.05|\n",
      "|SGDClassifier|Avg Word2Vec            |GridSearchCV|f1             |          0.33816|          0.0000|      10.00|\n",
      "|SGDClassifier|Avg Word2Vec            |GridSearchCV|roc_auc        |          0.88124|          0.8796|       0.00|\n",
      "|SGDClassifier|TF-IDF                  |GridSearchCV|f1             |          0.76711|          0.0000|       1.00|\n",
      "|SGDClassifier|TF-IDF                  |GridSearchCV|roc_auc        |          0.89210|          0.8864|       0.00|\n",
      "|SGDClassifier|TF-IDF weighted Word2Vec|GridSearchCV|f1             |          0.83014|          0.8056|    1000.00|\n",
      "|SGDClassifier|TF-IDF weighted Word2Vec|GridSearchCV|roc_auc        |          0.50000|          0.5000|    1000.00|\n",
      "\n"
     ]
    }
   ],
   "source": [
    "columns = [\"Model\",\"Vectorizer\",\"SearchCV\",\n",
    "           \"Scoring Metrics\",\"Train_model_score\", \n",
    "           \"Test_model_score\",\"Best lambda\"]\n",
    "df9=pd.DataFrame(models_performence, columns=columns)\n",
    "result_display(df9)"
   ]
  },
  {
   "cell_type": "markdown",
   "metadata": {},
   "source": [
    "|    Model    |       Vectorizer       |  SearchCV  |Scoring Metrics|Train_model_score|Test_model_score|Best lambda|\n",
    "|-------------|------------------------|------------|---------------|----------------:|---------------:|----------:|\n",
    "|SGDClassifier|BOW                     |GridSearchCV|f1             |          0.00020|          0.0000|       5.00|\n",
    "|SGDClassifier|BOW                     |GridSearchCV|roc_auc        |          0.83740|          0.8197|       0.05|\n",
    "|SGDClassifier|Avg Word2Vec            |GridSearchCV|f1             |          0.33816|          0.0000|      10.00|\n",
    "|SGDClassifier|Avg Word2Vec            |GridSearchCV|roc_auc        |          0.88124|          0.8796|       0.00|\n",
    "|SGDClassifier|TF-IDF                  |GridSearchCV|f1             |          0.76711|          0.0000|       1.00|\n",
    "|SGDClassifier|TF-IDF                  |GridSearchCV|roc_auc        |          0.89210|          0.8864|       0.00|\n",
    "|SGDClassifier|TF-IDF weighted Word2Vec|GridSearchCV|f1             |          0.83014|          0.8056|    1000.00|\n",
    "|SGDClassifier|TF-IDF weighted Word2Vec|GridSearchCV|roc_auc        |          0.50000|          0.5000|    1000.00|"
   ]
  },
  {
   "cell_type": "code",
   "execution_count": 138,
   "metadata": {},
   "outputs": [
    {
     "name": "stdout",
     "output_type": "stream",
     "text": [
      "1000.0\n"
     ]
    }
   ],
   "source": [
    "df=pd.DataFrame(models_performence, columns=columns)\n",
    "df=df[df['Vectorizer'] == 'TF-IDF weighted Word2Vec']\n",
    "zx=df[df['Scoring Metrics'] == 'f1']['Best lambda'].ravel()\n",
    "lambdax=zx[0]\n",
    "print(lambdax)"
   ]
  },
  {
   "cell_type": "code",
   "execution_count": 139,
   "metadata": {},
   "outputs": [],
   "source": [
    "#Best lambda \n",
    "hp1=dict(alpha=[lambdax])\n",
    "SGD_clf = linear_model.SGDClassifier(loss='hinge',\n",
    "                                     n_iter=1000,\n",
    "                                     learning_rate='optimal',\n",
    "                                     class_weight='balanced',\n",
    "                                    n_jobs= -1)\n",
    "          \n",
    "svm7 =GridSearchCV(SGD_clf,hp1, \n",
    "                   scoring ='f1', \n",
    "                   cv=tscv,n_jobs= -1)\n",
    "svm7.fit(final_tfidf_w2v_np_train,Train_data)\n",
    "\n",
    "prediction7 =svm7.predict(final_tfidf_w2v_np_test)\n"
   ]
  },
  {
   "cell_type": "code",
   "execution_count": 140,
   "metadata": {},
   "outputs": [
    {
     "name": "stdout",
     "output_type": "stream",
     "text": [
      "training accuracy= 0.8301405920324219\n",
      "training error is = 0.16985940796757815\n"
     ]
    }
   ],
   "source": [
    "#Training accuracy and training error\n",
    "training_score=svm7.score(final_tfidf_w2v_np_train,Train_data)\n",
    "print('training accuracy=',training_score)\n",
    "training_error=1-training_score\n",
    "print('training error is =',training_error)"
   ]
  },
  {
   "cell_type": "code",
   "execution_count": 141,
   "metadata": {},
   "outputs": [
    {
     "name": "stdout",
     "output_type": "stream",
     "text": [
      "Accuracy for SGD_clf model with TF-IDF weighted Word2Vec is =  0.6745\n",
      "Testing error for SGD_clfmodel with TF-IDF weighted Word2Vec is =  0.3255\n"
     ]
    }
   ],
   "source": [
    "# Testing Accuracy and testing error \n",
    "\n",
    "Testing_score=round(accuracy_score(y_test_new ,prediction7),5)\n",
    "print(\"Accuracy for SGD_clf model with TF-IDF weighted Word2Vec is = \",Testing_score)\n",
    "Testing_error=1-Testing_score\n",
    "print(\"Testing error for SGD_clfmodel with TF-IDF weighted Word2Vec is = \",Testing_error)"
   ]
  },
  {
   "cell_type": "code",
   "execution_count": 142,
   "metadata": {},
   "outputs": [],
   "source": [
    "F1_score = round(f1_score(y_test_new ,prediction7,average='macro'),5)*100\n",
    "recall = round(recall_score(y_test_new,prediction7,average='macro'),5)*100\n",
    "precision = round(precision_score(y_test_new ,prediction7,average='macro'),5)*100"
   ]
  },
  {
   "cell_type": "code",
   "execution_count": 143,
   "metadata": {},
   "outputs": [
    {
     "name": "stdout",
     "output_type": "stream",
     "text": [
      "             precision    recall  f1-score   support\n",
      "\n",
      "          0       0.00      0.00      0.00      3906\n",
      "          1       0.67      1.00      0.81      8094\n",
      "\n",
      "avg / total       0.45      0.67      0.54     12000\n",
      "\n"
     ]
    }
   ],
   "source": [
    "print(classification_report( y_test_new,prediction7))"
   ]
  },
  {
   "cell_type": "code",
   "execution_count": 144,
   "metadata": {},
   "outputs": [
    {
     "data": {
      "image/png": "[encoded data removed]",
      "text/plain": [
       "<Figure size 432x288 with 2 Axes>"
      ]
     },
     "metadata": {},
     "output_type": "display_data"
    }
   ],
   "source": [
    "cm = confusion_matrix(y_test_new ,prediction7)\n",
    "label = ['negative', 'positive']\n",
    "df_conf = pd.DataFrame(cm, index = label, columns = label)\n",
    "sns.heatmap(df_conf, annot = True, fmt = \"d\")\n",
    "plt.title(\"Confusiion Matrix\")\n",
    "plt.xlabel(\"Predicted Label\")\n",
    "plt.ylabel(\"True Label\")\n",
    "plt.show()"
   ]
  },
  {
   "cell_type": "code",
   "execution_count": 145,
   "metadata": {},
   "outputs": [
    {
     "name": "stderr",
     "output_type": "stream",
     "text": [
      "100%|██████████| 15/15 [05:58<00:00, 23.88s/it]\n"
     ]
    },
    {
     "data": {
      "image/png": "[encoded data removed]",
      "text/plain": [
       "<Figure size 432x288 with 1 Axes>"
      ]
     },
     "metadata": {},
     "output_type": "display_data"
    }
   ],
   "source": [
    "classifier=SGD_clf\n",
    "p='f1'\n",
    "error_plot(classifier,p,\n",
    "           final_tfidf_w2v_np_train,\n",
    "           Train_data,\n",
    "           final_tfidf_w2v_np_test,y_test_new)"
   ]
  },
  {
   "cell_type": "code",
   "execution_count": 146,
   "metadata": {},
   "outputs": [],
   "source": [
    "models_performence1['Model'].append('SGD_clf')\n",
    "models_performence1['Vectorizer'].append(vectorization)\n",
    "\n",
    "models_performence1[ 'Optimal lambda'].append(lambdax)\n",
    "models_performence1['Training error'].append(training_error)\n",
    "models_performence1[ 'Test error'].append(Testing_error)\n",
    "models_performence1[ 'Accuracy'].append(Testing_score)\n",
    "models_performence1[ 'F1'].append(F1_score)\n",
    "models_performence1['recall'].append(recall)\n",
    "models_performence1[ 'precision'].append(precision)"
   ]
  },
  {
   "cell_type": "code",
   "execution_count": 147,
   "metadata": {},
   "outputs": [
    {
     "name": "stdout",
     "output_type": "stream",
     "text": [
      "|    Model    |       Vectorizer       |Optimal lambda|Training error|Test error|Accuracy| F1  |recall|precision|\n",
      "|-------------|------------------------|-------------:|-------------:|---------:|-------:|----:|-----:|--------:|\n",
      "|SGD_clf      |BOW                     |         5.000|        0.1670|    0.3233|  0.6767|41.24| 50.40|    73.81|\n",
      "|SGDClassifier|BOW                     |         0.050|        0.1626|    0.2435|  0.7565|73.65| 75.18|    73.06|\n",
      "|SGD_clf      |Avg Word2Vec            |        10.000|        0.1394|    0.3252|  0.6748|40.42| 50.06|    75.40|\n",
      "|SGD_clf      |Avg Word2Vec            |         0.005|        0.1185|    0.5220|  0.4780|46.27| 61.13|    68.48|\n",
      "|SGD_clf      |TF-IDF                  |         1.000|        0.1289|    0.3255|  0.6745|40.28| 50.00|    33.72|\n",
      "|SGD_clf      |TF-IDF                  |         0.005|        0.1079|    0.6745|  0.3255|24.56| 50.00|    16.28|\n",
      "|SGD_clf      |TF-IDF weighted Word2Vec|      1000.000|        0.1699|    0.3255|  0.6745|40.28| 50.00|    33.72|\n",
      "\n"
     ]
    }
   ],
   "source": [
    "columns = [\"Model\",\"Vectorizer\",\"Optimal lambda\",\n",
    "           \"Training error\",  \"Test error\",\n",
    "            \"Accuracy\",\"F1\",\"recall\",\"precision\",\n",
    "          ]\n",
    "df10=pd.DataFrame(models_performence1, columns=columns)\n",
    "result_display(df10)"
   ]
  },
  {
   "cell_type": "markdown",
   "metadata": {},
   "source": [
    "### Observations:"
   ]
  },
  {
   "cell_type": "markdown",
   "metadata": {},
   "source": [
    "|    Model    |       Vectorizer       |Optimal lambda|Training error|Test error|Accuracy| F1  |recall|precision|\n",
    "|-------------|------------------------|-------------:|-------------:|---------:|-------:|----:|-----:|--------:|\n",
    "|SGD_clf      |BOW                     |         5.000|        0.1670|    0.3233|  0.6767|41.24| 50.40|    73.81|\n",
    "|SGDClassifier|BOW                     |         0.050|        0.1626|    0.2435|  0.7565|73.65| 75.18|    73.06|\n",
    "|SGD_clf      |Avg Word2Vec            |        10.000|        0.1394|    0.3252|  0.6748|40.42| 50.06|    75.40|\n",
    "|SGD_clf      |Avg Word2Vec            |         0.005|        0.1185|    0.5220|  0.4780|46.27| 61.13|    68.48|\n",
    "|SGD_clf      |TF-IDF                  |         1.000|        0.1289|    0.3255|  0.6745|40.28| 50.00|    33.72|\n",
    "|SGD_clf      |TF-IDF                  |         0.005|        0.1079|    0.6745|  0.3255|24.56| 50.00|    16.28|\n",
    "|SGD_clf      |TF-IDF weighted Word2Vec|      1000.000|        0.1699|    0.3255|  0.6745|40.28| 50.00|    33.72|"
   ]
  },
  {
   "cell_type": "markdown",
   "metadata": {},
   "source": [
    "* lambda value for TF-IDF weighted Word2Vec\t usingscoring metrics \"f1\"is high (1000).\n",
    "* TPR & FPR is high and performance graph looks like peak tooth wave.\n"
   ]
  },
  {
   "cell_type": "code",
   "execution_count": 148,
   "metadata": {},
   "outputs": [
    {
     "name": "stdout",
     "output_type": "stream",
     "text": [
      "1000.0\n"
     ]
    }
   ],
   "source": [
    "zx=df[df['Scoring Metrics'] == 'roc_auc']['Best lambda'].ravel()\n",
    "lambdax=zx[0]\n",
    "print(lambdax)"
   ]
  },
  {
   "cell_type": "code",
   "execution_count": 149,
   "metadata": {},
   "outputs": [],
   "source": [
    "#Best lambda \n",
    "hp1=dict(alpha=[lambdax])\n",
    "SGD_clf = linear_model.SGDClassifier(loss='hinge',\n",
    "                                     n_iter=1000,\n",
    "                                     learning_rate='optimal',\n",
    "                                     class_weight='balanced',\n",
    "                                     n_jobs= -1)\n",
    "          \n",
    "svm8 =GridSearchCV(SGD_clf, hp1,\n",
    "                   scoring ='roc_auc',\n",
    "                   cv=tscv,n_jobs= -1)\n",
    "svm8.fit(final_tfidf_w2v_np_train,Train_data)\n",
    "\n",
    "prediction8 = svm8.predict(final_tfidf_w2v_np_test)"
   ]
  },
  {
   "cell_type": "code",
   "execution_count": 150,
   "metadata": {},
   "outputs": [
    {
     "name": "stdout",
     "output_type": "stream",
     "text": [
      "training accuracy= 0.5\n",
      "training error is = 0.5\n"
     ]
    }
   ],
   "source": [
    "#Training accuracy and training error\n",
    "training_score=svm8.score(final_tfidf_w2v_np_train,Train_data)\n",
    "print('training accuracy=',training_score)\n",
    "training_error=1-training_score\n",
    "print('training error is =',training_error)"
   ]
  },
  {
   "cell_type": "code",
   "execution_count": 151,
   "metadata": {},
   "outputs": [
    {
     "name": "stdout",
     "output_type": "stream",
     "text": [
      "Accuracy for SGD_clf model with TF-IDF weighted Word2Vec is =  0.6745\n",
      "Testing error for SGD_clf model with TF-IDF weighted Word2Vec is =  0.3255\n"
     ]
    }
   ],
   "source": [
    "# Testing Accuracy and testing error \n",
    "\n",
    "Testing_score=round(accuracy_score(y_test_new ,prediction8),5)\n",
    "print(\"Accuracy for SGD_clf model with TF-IDF weighted Word2Vec is = \",Testing_score)\n",
    "Testing_error=1-Testing_score\n",
    "print(\"Testing error for SGD_clf model with TF-IDF weighted Word2Vec is = \",Testing_error)"
   ]
  },
  {
   "cell_type": "code",
   "execution_count": 152,
   "metadata": {},
   "outputs": [],
   "source": [
    "F1_score = round(f1_score(y_test_new,prediction8,average='macro'),5)*100\n",
    "recall = round(recall_score(y_test_new,prediction8,average='macro'),5)*100\n",
    "precision = round(precision_score(y_test_new ,prediction8,average='macro'),5)*100"
   ]
  },
  {
   "cell_type": "code",
   "execution_count": 153,
   "metadata": {},
   "outputs": [
    {
     "name": "stdout",
     "output_type": "stream",
     "text": [
      "             precision    recall  f1-score   support\n",
      "\n",
      "          0       0.00      0.00      0.00      3906\n",
      "          1       0.67      1.00      0.81      8094\n",
      "\n",
      "avg / total       0.45      0.67      0.54     12000\n",
      "\n"
     ]
    }
   ],
   "source": [
    "print(classification_report( y_test_new,prediction8))"
   ]
  },
  {
   "cell_type": "code",
   "execution_count": 154,
   "metadata": {},
   "outputs": [
    {
     "data": {
      "image/png": "[encoded data removed]",
      "text/plain": [
       "<Figure size 432x288 with 2 Axes>"
      ]
     },
     "metadata": {},
     "output_type": "display_data"
    }
   ],
   "source": [
    "cm = confusion_matrix(y_test_new ,prediction8)\n",
    "label = ['negative', 'positive']\n",
    "df_conf = pd.DataFrame(cm, index = label, columns = label)\n",
    "sns.heatmap(df_conf, annot = True, fmt = \"d\")\n",
    "plt.title(\"Confusiion Matrix\")\n",
    "plt.xlabel(\"Predicted Label\")\n",
    "plt.ylabel(\"True Label\")\n",
    "plt.show()"
   ]
  },
  {
   "cell_type": "code",
   "execution_count": 155,
   "metadata": {},
   "outputs": [
    {
     "name": "stderr",
     "output_type": "stream",
     "text": [
      "100%|██████████| 15/15 [05:59<00:00, 23.97s/it]\n"
     ]
    },
    {
     "data": {
      "image/png": "[encoded data removed]",
      "text/plain": [
       "<Figure size 432x288 with 1 Axes>"
      ]
     },
     "metadata": {},
     "output_type": "display_data"
    }
   ],
   "source": [
    "classifier=SGD_clf\n",
    "p='roc_auc'\n",
    "error_plot(classifier,p,\n",
    "           final_tfidf_w2v_np_train,\n",
    "           Train_data,final_tfidf_w2v_np_test,\n",
    "           y_test_new)"
   ]
  },
  {
   "cell_type": "code",
   "execution_count": 156,
   "metadata": {},
   "outputs": [],
   "source": [
    "models_performence1['Model'].append('SGD_clf')\n",
    "models_performence1['Vectorizer'].append(vectorization)\n",
    "\n",
    "models_performence1[ 'Optimal lambda'].append(lambdax)\n",
    "models_performence1['Training error'].append(training_error)\n",
    "models_performence1[ 'Test error'].append(Testing_error)\n",
    "models_performence1[ 'Accuracy'].append(Testing_score)\n",
    "models_performence1[ 'F1'].append(F1_score)\n",
    "models_performence1['recall'].append(recall)\n",
    "models_performence1[ 'precision'].append(precision)"
   ]
  },
  {
   "cell_type": "code",
   "execution_count": 157,
   "metadata": {
    "scrolled": false
   },
   "outputs": [
    {
     "name": "stdout",
     "output_type": "stream",
     "text": [
      "|    Model    |       Vectorizer       |Optimal lambda|Training error|Test error|Accuracy| F1  |recall|precision|\n",
      "|-------------|------------------------|-------------:|-------------:|---------:|-------:|----:|-----:|--------:|\n",
      "|SGD_clf      |BOW                     |          5.00|        0.1670|    0.3233|  0.6767|41.24| 50.40|    73.81|\n",
      "|SGDClassifier|BOW                     |          0.05|        0.1626|    0.2435|  0.7565|73.65| 75.18|    73.06|\n",
      "|SGD_clf      |Avg Word2Vec            |         10.00|        0.1394|    0.3252|  0.6748|40.42| 50.06|    75.40|\n",
      "|SGD_clf      |Avg Word2Vec            |          0.00|        0.1185|    0.5220|  0.4780|46.27| 61.13|    68.48|\n",
      "|SGD_clf      |TF-IDF                  |          1.00|        0.1289|    0.3255|  0.6745|40.28| 50.00|    33.72|\n",
      "|SGD_clf      |TF-IDF                  |          0.00|        0.1079|    0.6745|  0.3255|24.56| 50.00|    16.28|\n",
      "|SGD_clf      |TF-IDF weighted Word2Vec|       1000.00|        0.1699|    0.3255|  0.6745|40.28| 50.00|    33.72|\n",
      "|SGD_clf      |TF-IDF weighted Word2Vec|       1000.00|        0.5000|    0.3255|  0.6745|40.28| 50.00|    33.72|\n",
      "\n"
     ]
    }
   ],
   "source": [
    "columns = [\"Model\",\"Vectorizer\",\"Optimal lambda\", \"Training error\",  \"Test error\",\n",
    "            \"Accuracy\",\"F1\",\"recall\",\"precision\",\n",
    "          ]\n",
    "df11=pd.DataFrame(models_performence1, columns=columns)\n",
    "result_display(df11)"
   ]
  },
  {
   "cell_type": "markdown",
   "metadata": {},
   "source": [
    "### Observation"
   ]
  },
  {
   "cell_type": "markdown",
   "metadata": {},
   "source": [
    "|    Model    |       Vectorizer       |Optimal lambda|Training error|Test error|Accuracy| F1  |recall|precision|\n",
    "|-------------|------------------------|-------------:|-------------:|---------:|-------:|----:|-----:|--------:|\n",
    "|SGD_clf      |BOW                     |          5.00|        0.1670|    0.3233|  0.6767|41.24| 50.40|    73.81|\n",
    "|SGDClassifier|BOW                     |          0.05|        0.1626|    0.2435|  0.7565|73.65| 75.18|    73.06|\n",
    "|SGD_clf      |Avg Word2Vec            |         10.00|        0.1394|    0.3252|  0.6748|40.42| 50.06|    75.40|\n",
    "|SGD_clf      |Avg Word2Vec            |          0.00|        0.1185|    0.5220|  0.4780|46.27| 61.13|    68.48|\n",
    "|SGD_clf      |TF-IDF                  |          1.00|        0.1289|    0.3255|  0.6745|40.28| 50.00|    33.72|\n",
    "|SGD_clf      |TF-IDF                  |          0.00|        0.1079|    0.6745|  0.3255|24.56| 50.00|    16.28|\n",
    "|SGD_clf      |TF-IDF weighted Word2Vec|       1000.00|        0.1699|    0.3255|  0.6745|40.28| 50.00|    33.72|\n",
    "|SGD_clf      |TF-IDF weighted Word2Vec|       1000.00|        0.5000|    0.3255|  0.6745|40.28| 50.00|    33.72|\n"
   ]
  },
  {
   "cell_type": "markdown",
   "metadata": {},
   "source": [
    "* lambda value is same in both scoring techniques.\n",
    "* Performance graph with different lambda value is straight line."
   ]
  },
  {
   "cell_type": "markdown",
   "metadata": {},
   "source": [
    "# Best Model for SVC"
   ]
  },
  {
   "cell_type": "code",
   "execution_count": 158,
   "metadata": {},
   "outputs": [],
   "source": [
    "pickle_path112='df11.pkl'\n",
    "df121=open(pickle_path112,'wb')\n",
    "pickle.dump(df11,df121)\n",
    "df121.close()"
   ]
  },
  {
   "cell_type": "code",
   "execution_count": 34,
   "metadata": {},
   "outputs": [],
   "source": [
    "pickle_path112='df11.pkl'\n",
    "\n",
    "unpickle_path61=open(pickle_path112,'rb')\n",
    "dff=pickle.load(unpickle_path61)"
   ]
  },
  {
   "cell_type": "code",
   "execution_count": 35,
   "metadata": {},
   "outputs": [
    {
     "name": "stdout",
     "output_type": "stream",
     "text": [
      "Model             SGDClassifier\n",
      "Vectorizer                  BOW\n",
      "Optimal lambda             0.05\n",
      "Training error         0.162592\n",
      "Test error               0.2435\n",
      "Accuracy                 0.7565\n",
      "F1                       73.645\n",
      "recall                    75.18\n",
      "precision                73.061\n",
      "Name: 1, dtype: object\n"
     ]
    }
   ],
   "source": [
    "\n",
    "dff=dff.ix[dff['Training error'].idxmin() & dff['Test error'].idxmin()]\n",
    "print(dff)\n",
    "vect=dff['Vectorizer']\n"
   ]
  },
  {
   "cell_type": "markdown",
   "metadata": {},
   "source": [
    " ####  SGD Classifier for BOW with scoring metrics \"roc_auc\" performs well amongs other techquies .\n",
    " \n",
    " Now , Apply this best results on SVC using rbf kernel to classify given reviews (positive (Rating of 4 or 5) & negative (rating of 1 or 2)) using SVM algorithm .\n",
    " "
   ]
  },
  {
   "cell_type": "code",
   "execution_count": 36,
   "metadata": {},
   "outputs": [
    {
     "name": "stderr",
     "output_type": "stream",
     "text": [
      "  0%|          | 0/1 [00:00<?, ?it/s]"
     ]
    },
    {
     "name": "stdout",
     "output_type": "stream",
     "text": [
      "started\n",
      "processed: 0\n",
      "Optimal gamma for SVC 0.05\n",
      "Optimal lambada for SVC 10.0\n",
      "training accuracy= 0.8971495409649287\n",
      "training error is = 0.10285045903507128\n",
      "Accuracy for SVM model  is =  0.73167\n",
      "Testing error for SVM model is =  0.26832999999999996\n",
      "             precision    recall  f1-score   support\n",
      "\n",
      "          0       0.56      0.80      0.66      3923\n",
      "          1       0.88      0.70      0.78      8077\n",
      "\n",
      "avg / total       0.77      0.73      0.74     12000\n",
      "\n"
     ]
    },
    {
     "data": {
      "image/png": "[encoded data removed]",
      "text/plain": [
       "<Figure size 432x288 with 2 Axes>"
      ]
     },
     "metadata": {},
     "output_type": "display_data"
    },
    {
     "name": "stderr",
     "output_type": "stream",
     "text": [
      "100%|██████████| 1/1 [45:33<00:00, 2733.32s/it]\n"
     ]
    }
   ],
   "source": [
    "from time import sleep\n",
    "from tqdm import tqdm\n",
    "import multiprocessing as mp\n",
    "\n",
    "\n",
    "def main122():\n",
    "    print(\"started\")\n",
    "\n",
    "    values = range(1)\n",
    "    with tqdm(total=len(values)) as pbar:\n",
    "        for i in values:\n",
    "            pbar.write('processed: %d' %i)\n",
    "            hyperparam_range=[5,0.1,0.05]\n",
    "\n",
    "            kernel= ['rbf']\n",
    "            hp1=dict(kernel=kernel,C=hyperparam_range, gamma=hyperparam_range)\n",
    "            clf=SVC(class_weight='balanced')\n",
    "            svm_final =  GridSearchCV(clf,\n",
    "                                      hp1,\n",
    "                                    scoring ='roc_auc', \n",
    "                                    cv=tscv,\n",
    "                                    n_jobs= -1)\n",
    "            svm_final.fit(final_data ,Train_data)\n",
    "            \n",
    "            Reg143=svm_final.best_estimator_.get_params()['gamma'] \n",
    "            print('Optimal gamma for SVC',Reg143)\n",
    "            optimal_l143=svm_final.best_estimator_.get_params()['C'] \n",
    "            print('Optimal lambada for SVC',(1/optimal_l143))\n",
    "            prediction_final =svm_final.predict(final_data_test)\n",
    "            #Training accuracy and training error\n",
    "            training_score=svm_final.score(final_data,Train_data)\n",
    "            print('training accuracy=',training_score)\n",
    "            training_error=1-training_score\n",
    "            print('training error is =',training_error)\n",
    "            # Testing Accuracy and testing error \n",
    "\n",
    "            Testing_score=round(accuracy_score(y_test_new,prediction_final),5)\n",
    "            print(\"Accuracy for SVM model  is = \",Testing_score)\n",
    "            Testing_error=1-Testing_score\n",
    "            print(\"Testing error for SVM model is = \",Testing_error)\n",
    "            F1_score = round(f1_score(y_test_new ,prediction_final,average='macro'),5)*100\n",
    "            recall = round(recall_score(y_test_new,prediction_final,average='macro'),5)*100\n",
    "            precision = round(precision_score(y_test_new,prediction_final,average='macro'),5)*100\n",
    "            print(classification_report(y_test_new,prediction_final))\n",
    "            cm = confusion_matrix(y_test_new ,prediction_final)\n",
    "            label = ['negative', 'positive']\n",
    "            df_conf = pd.DataFrame(cm, index = label, columns = label)\n",
    "            sns.heatmap(df_conf, annot = True, fmt = \"d\")\n",
    "            plt.title(\"Confusiion Matrix\")\n",
    "            plt.xlabel(\"Predicted Label\")\n",
    "            plt.ylabel(\"True Label\")\n",
    "            plt.show()    \n",
    "            pbar.update(1)\n",
    "            sleep(1)\n",
    "\n",
    "if __name__=='__main__':\n",
    "    mp.freeze_support()\n",
    "    main122()\n",
    "   "
   ]
  },
  {
   "cell_type": "markdown",
   "metadata": {},
   "source": [
    "# Observations"
   ]
  },
  {
   "cell_type": "markdown",
   "metadata": {},
   "source": [
    "* Optimal gamma for SVC =  0.05\n",
    "\n",
    "* Optimal lambada for SVC = 10.0\n",
    "\n",
    "* training accuracy= 0.8971495409649287\n",
    "\n",
    "* training error is = 0.10285045903507128\n",
    "\n",
    "* Accuracy for SVM model  is =  0.73167\n",
    "\n",
    "* Testing error for SVM model is =  0.26832999999999996"
   ]
  },
  {
   "cell_type": "markdown",
   "metadata": {},
   "source": [
    "* From confusion metrics, TPR & TNR  is high and FPR & FNR is low. It means model performs is sensible and model works well.\n",
    "\n",
    "* SVC using BOW with scoring metrics \"roc_auc\" performs well to classify postive and negative reviews ."
   ]
  },
  {
   "cell_type": "code",
   "execution_count": null,
   "metadata": {},
   "outputs": [],
   "source": []
  }
 ],
 "metadata": {
  "kernelspec": {
   "display_name": "Python 3",
   "language": "python",
   "name": "python3"
  },
  "language_info": {
   "codemirror_mode": {
    "name": "ipython",
    "version": 3
   },
   "file_extension": ".py",
   "mimetype": "text/x-python",
   "name": "python",
   "nbconvert_exporter": "python",
   "pygments_lexer": "ipython3",
   "version": "3.6.5"
  }
 },
 "nbformat": 4,
 "nbformat_minor": 2
}
